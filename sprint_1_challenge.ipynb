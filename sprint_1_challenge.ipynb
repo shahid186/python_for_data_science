{
 "cells": [
  {
   "cell_type": "markdown",
   "id": "ad662749",
   "metadata": {},
   "source": [
    "# task 1"
   ]
  },
  {
   "cell_type": "code",
   "execution_count": 1,
   "id": "2fcdf7c3",
   "metadata": {},
   "outputs": [],
   "source": [
    "import numpy as np\n",
    "import pandas as pd"
   ]
  },
  {
   "cell_type": "code",
   "execution_count": 2,
   "id": "7a7387aa",
   "metadata": {},
   "outputs": [],
   "source": [
    "import numpy as np"
   ]
  },
  {
   "cell_type": "code",
   "execution_count": 1,
   "id": "dc3e1c39",
   "metadata": {},
   "outputs": [],
   "source": [
    "import numpy as np"
   ]
  },
  {
   "cell_type": "code",
   "execution_count": 2,
   "id": "8514ff47",
   "metadata": {},
   "outputs": [],
   "source": [
    "import pandas as pd"
   ]
  },
  {
   "cell_type": "code",
   "execution_count": 3,
   "id": "d9d3b5f9",
   "metadata": {},
   "outputs": [],
   "source": [
    "import numpy as np\n",
    "import pandas as pd"
   ]
  },
  {
   "cell_type": "code",
   "execution_count": null,
   "id": "e13697a4",
   "metadata": {},
   "outputs": [],
   "source": []
  },
  {
   "cell_type": "code",
   "execution_count": null,
   "id": "86d087ea",
   "metadata": {},
   "outputs": [],
   "source": []
  },
  {
   "cell_type": "code",
   "execution_count": 1,
   "id": "9e5a508f",
   "metadata": {},
   "outputs": [],
   "source": [
    "import  numpy as np\n",
    "import pandas as pd"
   ]
  },
  {
   "cell_type": "code",
   "execution_count": null,
   "id": "2663272a",
   "metadata": {},
   "outputs": [],
   "source": []
  },
  {
   "cell_type": "code",
   "execution_count": 1,
   "id": "8de8b9e8",
   "metadata": {},
   "outputs": [],
   "source": [
    "import numpy as np \n",
    "import pandas as pd"
   ]
  },
  {
   "cell_type": "code",
   "execution_count": 4,
   "id": "b141a492",
   "metadata": {},
   "outputs": [],
   "source": [
    "data=pd.read_csv('DS1_C4_S1_Employee_Data_Challenge.csv')"
   ]
  },
  {
   "cell_type": "code",
   "execution_count": 4,
   "id": "86039bb4",
   "metadata": {},
   "outputs": [],
   "source": [
    "data=pd.read_csv('DS1_C4_S1_Employee_Data_Challenge.csv')"
   ]
  },
  {
   "cell_type": "code",
   "execution_count": 5,
   "id": "66f48431",
   "metadata": {},
   "outputs": [
    {
     "data": {
      "text/html": [
       "<div>\n",
       "<style scoped>\n",
       "    .dataframe tbody tr th:only-of-type {\n",
       "        vertical-align: middle;\n",
       "    }\n",
       "\n",
       "    .dataframe tbody tr th {\n",
       "        vertical-align: top;\n",
       "    }\n",
       "\n",
       "    .dataframe thead th {\n",
       "        text-align: right;\n",
       "    }\n",
       "</style>\n",
       "<table border=\"1\" class=\"dataframe\">\n",
       "  <thead>\n",
       "    <tr style=\"text-align: right;\">\n",
       "      <th></th>\n",
       "      <th>Emp_code</th>\n",
       "      <th>Age</th>\n",
       "    </tr>\n",
       "  </thead>\n",
       "  <tbody>\n",
       "    <tr>\n",
       "      <th>0</th>\n",
       "      <td>1</td>\n",
       "      <td>22</td>\n",
       "    </tr>\n",
       "    <tr>\n",
       "      <th>1</th>\n",
       "      <td>2</td>\n",
       "      <td>27</td>\n",
       "    </tr>\n",
       "    <tr>\n",
       "      <th>2</th>\n",
       "      <td>3</td>\n",
       "      <td>31</td>\n",
       "    </tr>\n",
       "    <tr>\n",
       "      <th>3</th>\n",
       "      <td>4</td>\n",
       "      <td>29</td>\n",
       "    </tr>\n",
       "    <tr>\n",
       "      <th>4</th>\n",
       "      <td>5</td>\n",
       "      <td>27</td>\n",
       "    </tr>\n",
       "    <tr>\n",
       "      <th>5</th>\n",
       "      <td>6</td>\n",
       "      <td>26</td>\n",
       "    </tr>\n",
       "    <tr>\n",
       "      <th>6</th>\n",
       "      <td>7</td>\n",
       "      <td>27</td>\n",
       "    </tr>\n",
       "    <tr>\n",
       "      <th>7</th>\n",
       "      <td>8</td>\n",
       "      <td>23</td>\n",
       "    </tr>\n",
       "    <tr>\n",
       "      <th>8</th>\n",
       "      <td>9</td>\n",
       "      <td>27</td>\n",
       "    </tr>\n",
       "    <tr>\n",
       "      <th>9</th>\n",
       "      <td>10</td>\n",
       "      <td>32</td>\n",
       "    </tr>\n",
       "    <tr>\n",
       "      <th>10</th>\n",
       "      <td>11</td>\n",
       "      <td>28</td>\n",
       "    </tr>\n",
       "    <tr>\n",
       "      <th>11</th>\n",
       "      <td>12</td>\n",
       "      <td>27</td>\n",
       "    </tr>\n",
       "    <tr>\n",
       "      <th>12</th>\n",
       "      <td>13</td>\n",
       "      <td>22</td>\n",
       "    </tr>\n",
       "    <tr>\n",
       "      <th>13</th>\n",
       "      <td>14</td>\n",
       "      <td>27</td>\n",
       "    </tr>\n",
       "    <tr>\n",
       "      <th>14</th>\n",
       "      <td>15</td>\n",
       "      <td>35</td>\n",
       "    </tr>\n",
       "    <tr>\n",
       "      <th>15</th>\n",
       "      <td>16</td>\n",
       "      <td>33</td>\n",
       "    </tr>\n",
       "    <tr>\n",
       "      <th>16</th>\n",
       "      <td>17</td>\n",
       "      <td>28</td>\n",
       "    </tr>\n",
       "    <tr>\n",
       "      <th>17</th>\n",
       "      <td>18</td>\n",
       "      <td>22</td>\n",
       "    </tr>\n",
       "    <tr>\n",
       "      <th>18</th>\n",
       "      <td>19</td>\n",
       "      <td>25</td>\n",
       "    </tr>\n",
       "    <tr>\n",
       "      <th>19</th>\n",
       "      <td>20</td>\n",
       "      <td>27</td>\n",
       "    </tr>\n",
       "    <tr>\n",
       "      <th>20</th>\n",
       "      <td>21</td>\n",
       "      <td>37</td>\n",
       "    </tr>\n",
       "    <tr>\n",
       "      <th>21</th>\n",
       "      <td>22</td>\n",
       "      <td>27</td>\n",
       "    </tr>\n",
       "    <tr>\n",
       "      <th>22</th>\n",
       "      <td>23</td>\n",
       "      <td>24</td>\n",
       "    </tr>\n",
       "    <tr>\n",
       "      <th>23</th>\n",
       "      <td>24</td>\n",
       "      <td>27</td>\n",
       "    </tr>\n",
       "    <tr>\n",
       "      <th>24</th>\n",
       "      <td>25</td>\n",
       "      <td>28</td>\n",
       "    </tr>\n",
       "    <tr>\n",
       "      <th>25</th>\n",
       "      <td>26</td>\n",
       "      <td>26</td>\n",
       "    </tr>\n",
       "    <tr>\n",
       "      <th>26</th>\n",
       "      <td>27</td>\n",
       "      <td>27</td>\n",
       "    </tr>\n",
       "    <tr>\n",
       "      <th>27</th>\n",
       "      <td>28</td>\n",
       "      <td>27</td>\n",
       "    </tr>\n",
       "    <tr>\n",
       "      <th>28</th>\n",
       "      <td>29</td>\n",
       "      <td>29</td>\n",
       "    </tr>\n",
       "    <tr>\n",
       "      <th>29</th>\n",
       "      <td>30</td>\n",
       "      <td>49</td>\n",
       "    </tr>\n",
       "    <tr>\n",
       "      <th>30</th>\n",
       "      <td>31</td>\n",
       "      <td>26</td>\n",
       "    </tr>\n",
       "    <tr>\n",
       "      <th>31</th>\n",
       "      <td>32</td>\n",
       "      <td>32</td>\n",
       "    </tr>\n",
       "    <tr>\n",
       "      <th>32</th>\n",
       "      <td>33</td>\n",
       "      <td>26</td>\n",
       "    </tr>\n",
       "    <tr>\n",
       "      <th>33</th>\n",
       "      <td>34</td>\n",
       "      <td>24</td>\n",
       "    </tr>\n",
       "    <tr>\n",
       "      <th>34</th>\n",
       "      <td>35</td>\n",
       "      <td>24</td>\n",
       "    </tr>\n",
       "    <tr>\n",
       "      <th>35</th>\n",
       "      <td>36</td>\n",
       "      <td>23</td>\n",
       "    </tr>\n",
       "    <tr>\n",
       "      <th>36</th>\n",
       "      <td>37</td>\n",
       "      <td>28</td>\n",
       "    </tr>\n",
       "    <tr>\n",
       "      <th>37</th>\n",
       "      <td>38</td>\n",
       "      <td>28</td>\n",
       "    </tr>\n",
       "    <tr>\n",
       "      <th>38</th>\n",
       "      <td>39</td>\n",
       "      <td>22</td>\n",
       "    </tr>\n",
       "    <tr>\n",
       "      <th>39</th>\n",
       "      <td>40</td>\n",
       "      <td>26</td>\n",
       "    </tr>\n",
       "    <tr>\n",
       "      <th>40</th>\n",
       "      <td>41</td>\n",
       "      <td>32</td>\n",
       "    </tr>\n",
       "    <tr>\n",
       "      <th>41</th>\n",
       "      <td>42</td>\n",
       "      <td>35</td>\n",
       "    </tr>\n",
       "    <tr>\n",
       "      <th>42</th>\n",
       "      <td>43</td>\n",
       "      <td>33</td>\n",
       "    </tr>\n",
       "    <tr>\n",
       "      <th>43</th>\n",
       "      <td>44</td>\n",
       "      <td>31</td>\n",
       "    </tr>\n",
       "    <tr>\n",
       "      <th>44</th>\n",
       "      <td>45</td>\n",
       "      <td>30</td>\n",
       "    </tr>\n",
       "    <tr>\n",
       "      <th>45</th>\n",
       "      <td>46</td>\n",
       "      <td>36</td>\n",
       "    </tr>\n",
       "    <tr>\n",
       "      <th>46</th>\n",
       "      <td>47</td>\n",
       "      <td>22</td>\n",
       "    </tr>\n",
       "    <tr>\n",
       "      <th>47</th>\n",
       "      <td>48</td>\n",
       "      <td>23</td>\n",
       "    </tr>\n",
       "    <tr>\n",
       "      <th>48</th>\n",
       "      <td>49</td>\n",
       "      <td>32</td>\n",
       "    </tr>\n",
       "    <tr>\n",
       "      <th>49</th>\n",
       "      <td>50</td>\n",
       "      <td>34</td>\n",
       "    </tr>\n",
       "  </tbody>\n",
       "</table>\n",
       "</div>"
      ],
      "text/plain": [
       "    Emp_code  Age\n",
       "0          1   22\n",
       "1          2   27\n",
       "2          3   31\n",
       "3          4   29\n",
       "4          5   27\n",
       "5          6   26\n",
       "6          7   27\n",
       "7          8   23\n",
       "8          9   27\n",
       "9         10   32\n",
       "10        11   28\n",
       "11        12   27\n",
       "12        13   22\n",
       "13        14   27\n",
       "14        15   35\n",
       "15        16   33\n",
       "16        17   28\n",
       "17        18   22\n",
       "18        19   25\n",
       "19        20   27\n",
       "20        21   37\n",
       "21        22   27\n",
       "22        23   24\n",
       "23        24   27\n",
       "24        25   28\n",
       "25        26   26\n",
       "26        27   27\n",
       "27        28   27\n",
       "28        29   29\n",
       "29        30   49\n",
       "30        31   26\n",
       "31        32   32\n",
       "32        33   26\n",
       "33        34   24\n",
       "34        35   24\n",
       "35        36   23\n",
       "36        37   28\n",
       "37        38   28\n",
       "38        39   22\n",
       "39        40   26\n",
       "40        41   32\n",
       "41        42   35\n",
       "42        43   33\n",
       "43        44   31\n",
       "44        45   30\n",
       "45        46   36\n",
       "46        47   22\n",
       "47        48   23\n",
       "48        49   32\n",
       "49        50   34"
      ]
     },
     "execution_count": 5,
     "metadata": {},
     "output_type": "execute_result"
    }
   ],
   "source": [
    "data"
   ]
  },
  {
   "cell_type": "code",
   "execution_count": 3,
   "id": "22c3f373",
   "metadata": {},
   "outputs": [
    {
     "data": {
      "text/html": [
       "<div>\n",
       "<style scoped>\n",
       "    .dataframe tbody tr th:only-of-type {\n",
       "        vertical-align: middle;\n",
       "    }\n",
       "\n",
       "    .dataframe tbody tr th {\n",
       "        vertical-align: top;\n",
       "    }\n",
       "\n",
       "    .dataframe thead th {\n",
       "        text-align: right;\n",
       "    }\n",
       "</style>\n",
       "<table border=\"1\" class=\"dataframe\">\n",
       "  <thead>\n",
       "    <tr style=\"text-align: right;\">\n",
       "      <th></th>\n",
       "      <th>Emp_code</th>\n",
       "      <th>Age</th>\n",
       "    </tr>\n",
       "  </thead>\n",
       "  <tbody>\n",
       "    <tr>\n",
       "      <th>0</th>\n",
       "      <td>1</td>\n",
       "      <td>22</td>\n",
       "    </tr>\n",
       "    <tr>\n",
       "      <th>1</th>\n",
       "      <td>2</td>\n",
       "      <td>27</td>\n",
       "    </tr>\n",
       "    <tr>\n",
       "      <th>2</th>\n",
       "      <td>3</td>\n",
       "      <td>31</td>\n",
       "    </tr>\n",
       "    <tr>\n",
       "      <th>3</th>\n",
       "      <td>4</td>\n",
       "      <td>29</td>\n",
       "    </tr>\n",
       "    <tr>\n",
       "      <th>4</th>\n",
       "      <td>5</td>\n",
       "      <td>27</td>\n",
       "    </tr>\n",
       "    <tr>\n",
       "      <th>5</th>\n",
       "      <td>6</td>\n",
       "      <td>26</td>\n",
       "    </tr>\n",
       "    <tr>\n",
       "      <th>6</th>\n",
       "      <td>7</td>\n",
       "      <td>27</td>\n",
       "    </tr>\n",
       "    <tr>\n",
       "      <th>7</th>\n",
       "      <td>8</td>\n",
       "      <td>23</td>\n",
       "    </tr>\n",
       "    <tr>\n",
       "      <th>8</th>\n",
       "      <td>9</td>\n",
       "      <td>27</td>\n",
       "    </tr>\n",
       "    <tr>\n",
       "      <th>9</th>\n",
       "      <td>10</td>\n",
       "      <td>32</td>\n",
       "    </tr>\n",
       "    <tr>\n",
       "      <th>10</th>\n",
       "      <td>11</td>\n",
       "      <td>28</td>\n",
       "    </tr>\n",
       "    <tr>\n",
       "      <th>11</th>\n",
       "      <td>12</td>\n",
       "      <td>27</td>\n",
       "    </tr>\n",
       "    <tr>\n",
       "      <th>12</th>\n",
       "      <td>13</td>\n",
       "      <td>22</td>\n",
       "    </tr>\n",
       "    <tr>\n",
       "      <th>13</th>\n",
       "      <td>14</td>\n",
       "      <td>27</td>\n",
       "    </tr>\n",
       "    <tr>\n",
       "      <th>14</th>\n",
       "      <td>15</td>\n",
       "      <td>35</td>\n",
       "    </tr>\n",
       "    <tr>\n",
       "      <th>15</th>\n",
       "      <td>16</td>\n",
       "      <td>33</td>\n",
       "    </tr>\n",
       "    <tr>\n",
       "      <th>16</th>\n",
       "      <td>17</td>\n",
       "      <td>28</td>\n",
       "    </tr>\n",
       "    <tr>\n",
       "      <th>17</th>\n",
       "      <td>18</td>\n",
       "      <td>22</td>\n",
       "    </tr>\n",
       "    <tr>\n",
       "      <th>18</th>\n",
       "      <td>19</td>\n",
       "      <td>25</td>\n",
       "    </tr>\n",
       "    <tr>\n",
       "      <th>19</th>\n",
       "      <td>20</td>\n",
       "      <td>27</td>\n",
       "    </tr>\n",
       "    <tr>\n",
       "      <th>20</th>\n",
       "      <td>21</td>\n",
       "      <td>37</td>\n",
       "    </tr>\n",
       "    <tr>\n",
       "      <th>21</th>\n",
       "      <td>22</td>\n",
       "      <td>27</td>\n",
       "    </tr>\n",
       "    <tr>\n",
       "      <th>22</th>\n",
       "      <td>23</td>\n",
       "      <td>24</td>\n",
       "    </tr>\n",
       "    <tr>\n",
       "      <th>23</th>\n",
       "      <td>24</td>\n",
       "      <td>27</td>\n",
       "    </tr>\n",
       "    <tr>\n",
       "      <th>24</th>\n",
       "      <td>25</td>\n",
       "      <td>28</td>\n",
       "    </tr>\n",
       "    <tr>\n",
       "      <th>25</th>\n",
       "      <td>26</td>\n",
       "      <td>26</td>\n",
       "    </tr>\n",
       "    <tr>\n",
       "      <th>26</th>\n",
       "      <td>27</td>\n",
       "      <td>27</td>\n",
       "    </tr>\n",
       "    <tr>\n",
       "      <th>27</th>\n",
       "      <td>28</td>\n",
       "      <td>27</td>\n",
       "    </tr>\n",
       "    <tr>\n",
       "      <th>28</th>\n",
       "      <td>29</td>\n",
       "      <td>29</td>\n",
       "    </tr>\n",
       "    <tr>\n",
       "      <th>29</th>\n",
       "      <td>30</td>\n",
       "      <td>49</td>\n",
       "    </tr>\n",
       "    <tr>\n",
       "      <th>30</th>\n",
       "      <td>31</td>\n",
       "      <td>26</td>\n",
       "    </tr>\n",
       "    <tr>\n",
       "      <th>31</th>\n",
       "      <td>32</td>\n",
       "      <td>32</td>\n",
       "    </tr>\n",
       "    <tr>\n",
       "      <th>32</th>\n",
       "      <td>33</td>\n",
       "      <td>26</td>\n",
       "    </tr>\n",
       "    <tr>\n",
       "      <th>33</th>\n",
       "      <td>34</td>\n",
       "      <td>24</td>\n",
       "    </tr>\n",
       "    <tr>\n",
       "      <th>34</th>\n",
       "      <td>35</td>\n",
       "      <td>24</td>\n",
       "    </tr>\n",
       "    <tr>\n",
       "      <th>35</th>\n",
       "      <td>36</td>\n",
       "      <td>23</td>\n",
       "    </tr>\n",
       "    <tr>\n",
       "      <th>36</th>\n",
       "      <td>37</td>\n",
       "      <td>28</td>\n",
       "    </tr>\n",
       "    <tr>\n",
       "      <th>37</th>\n",
       "      <td>38</td>\n",
       "      <td>28</td>\n",
       "    </tr>\n",
       "    <tr>\n",
       "      <th>38</th>\n",
       "      <td>39</td>\n",
       "      <td>22</td>\n",
       "    </tr>\n",
       "    <tr>\n",
       "      <th>39</th>\n",
       "      <td>40</td>\n",
       "      <td>26</td>\n",
       "    </tr>\n",
       "    <tr>\n",
       "      <th>40</th>\n",
       "      <td>41</td>\n",
       "      <td>32</td>\n",
       "    </tr>\n",
       "    <tr>\n",
       "      <th>41</th>\n",
       "      <td>42</td>\n",
       "      <td>35</td>\n",
       "    </tr>\n",
       "    <tr>\n",
       "      <th>42</th>\n",
       "      <td>43</td>\n",
       "      <td>33</td>\n",
       "    </tr>\n",
       "    <tr>\n",
       "      <th>43</th>\n",
       "      <td>44</td>\n",
       "      <td>31</td>\n",
       "    </tr>\n",
       "    <tr>\n",
       "      <th>44</th>\n",
       "      <td>45</td>\n",
       "      <td>30</td>\n",
       "    </tr>\n",
       "    <tr>\n",
       "      <th>45</th>\n",
       "      <td>46</td>\n",
       "      <td>36</td>\n",
       "    </tr>\n",
       "    <tr>\n",
       "      <th>46</th>\n",
       "      <td>47</td>\n",
       "      <td>22</td>\n",
       "    </tr>\n",
       "    <tr>\n",
       "      <th>47</th>\n",
       "      <td>48</td>\n",
       "      <td>23</td>\n",
       "    </tr>\n",
       "    <tr>\n",
       "      <th>48</th>\n",
       "      <td>49</td>\n",
       "      <td>32</td>\n",
       "    </tr>\n",
       "    <tr>\n",
       "      <th>49</th>\n",
       "      <td>50</td>\n",
       "      <td>34</td>\n",
       "    </tr>\n",
       "  </tbody>\n",
       "</table>\n",
       "</div>"
      ],
      "text/plain": [
       "    Emp_code  Age\n",
       "0          1   22\n",
       "1          2   27\n",
       "2          3   31\n",
       "3          4   29\n",
       "4          5   27\n",
       "5          6   26\n",
       "6          7   27\n",
       "7          8   23\n",
       "8          9   27\n",
       "9         10   32\n",
       "10        11   28\n",
       "11        12   27\n",
       "12        13   22\n",
       "13        14   27\n",
       "14        15   35\n",
       "15        16   33\n",
       "16        17   28\n",
       "17        18   22\n",
       "18        19   25\n",
       "19        20   27\n",
       "20        21   37\n",
       "21        22   27\n",
       "22        23   24\n",
       "23        24   27\n",
       "24        25   28\n",
       "25        26   26\n",
       "26        27   27\n",
       "27        28   27\n",
       "28        29   29\n",
       "29        30   49\n",
       "30        31   26\n",
       "31        32   32\n",
       "32        33   26\n",
       "33        34   24\n",
       "34        35   24\n",
       "35        36   23\n",
       "36        37   28\n",
       "37        38   28\n",
       "38        39   22\n",
       "39        40   26\n",
       "40        41   32\n",
       "41        42   35\n",
       "42        43   33\n",
       "43        44   31\n",
       "44        45   30\n",
       "45        46   36\n",
       "46        47   22\n",
       "47        48   23\n",
       "48        49   32\n",
       "49        50   34"
      ]
     },
     "execution_count": 3,
     "metadata": {},
     "output_type": "execute_result"
    }
   ],
   "source": [
    "data"
   ]
  },
  {
   "cell_type": "code",
   "execution_count": 5,
   "id": "5f0b436e",
   "metadata": {},
   "outputs": [],
   "source": [
    "data=np.genfromtxt('DS1_C4_S1_Employee_Data_Challenge.csv',delimiter=',',skip_header=1)"
   ]
  },
  {
   "cell_type": "code",
   "execution_count": null,
   "id": "3dacde68",
   "metadata": {},
   "outputs": [],
   "source": []
  },
  {
   "cell_type": "code",
   "execution_count": 6,
   "id": "0a0ddf39",
   "metadata": {},
   "outputs": [],
   "source": [
    "data1=np.genfromtxt('DS1_C4_S1_Employee_Data_Challenge.csv',delimiter=',',skip_header=1)"
   ]
  },
  {
   "cell_type": "code",
   "execution_count": 7,
   "id": "6d0db4dd",
   "metadata": {},
   "outputs": [],
   "source": [
    "s=np.genfromtxt('DS1_C4_S1_Employee_Data_Challenge.csv',delimiter=',',skip_header=1)"
   ]
  },
  {
   "cell_type": "code",
   "execution_count": 6,
   "id": "216acb2d",
   "metadata": {},
   "outputs": [],
   "source": [
    "data=np.genfromtxt('DS1_C4_S1_Employee_Data_Challenge.csv',delimiter=',',skip_header=1)"
   ]
  },
  {
   "cell_type": "code",
   "execution_count": null,
   "id": "466850ae",
   "metadata": {},
   "outputs": [],
   "source": [
    "data1=np.genfromtxt('DS1_C4_S1_Employee_Data_Challenge.csv',delimiter=',',skip_header=1)"
   ]
  },
  {
   "cell_type": "code",
   "execution_count": 8,
   "id": "591ecec9",
   "metadata": {},
   "outputs": [],
   "source": [
    "data1=np.genfromtxt('DS1_C4_S1_Employee_Data_Challenge.csv',delimiter=',',skip_header=1)"
   ]
  },
  {
   "cell_type": "code",
   "execution_count": 9,
   "id": "13682af6",
   "metadata": {},
   "outputs": [
    {
     "data": {
      "text/plain": [
       "array([[ 1., 22.],\n",
       "       [ 2., 27.],\n",
       "       [ 3., 31.],\n",
       "       [ 4., 29.],\n",
       "       [ 5., 27.],\n",
       "       [ 6., 26.],\n",
       "       [ 7., 27.],\n",
       "       [ 8., 23.],\n",
       "       [ 9., 27.],\n",
       "       [10., 32.],\n",
       "       [11., 28.],\n",
       "       [12., 27.],\n",
       "       [13., 22.],\n",
       "       [14., 27.],\n",
       "       [15., 35.],\n",
       "       [16., 33.],\n",
       "       [17., 28.],\n",
       "       [18., 22.],\n",
       "       [19., 25.],\n",
       "       [20., 27.],\n",
       "       [21., 37.],\n",
       "       [22., 27.],\n",
       "       [23., 24.],\n",
       "       [24., 27.],\n",
       "       [25., 28.],\n",
       "       [26., 26.],\n",
       "       [27., 27.],\n",
       "       [28., 27.],\n",
       "       [29., 29.],\n",
       "       [30., 49.],\n",
       "       [31., 26.],\n",
       "       [32., 32.],\n",
       "       [33., 26.],\n",
       "       [34., 24.],\n",
       "       [35., 24.],\n",
       "       [36., 23.],\n",
       "       [37., 28.],\n",
       "       [38., 28.],\n",
       "       [39., 22.],\n",
       "       [40., 26.],\n",
       "       [41., 32.],\n",
       "       [42., 35.],\n",
       "       [43., 33.],\n",
       "       [44., 31.],\n",
       "       [45., 30.],\n",
       "       [46., 36.],\n",
       "       [47., 22.],\n",
       "       [48., 23.],\n",
       "       [49., 32.],\n",
       "       [50., 34.]])"
      ]
     },
     "execution_count": 9,
     "metadata": {},
     "output_type": "execute_result"
    }
   ],
   "source": [
    "data1"
   ]
  },
  {
   "cell_type": "code",
   "execution_count": 4,
   "id": "28cc1419",
   "metadata": {},
   "outputs": [],
   "source": [
    "data=np.genfromtxt('DS1_C4_S1_Employee_Data_Challenge.csv',delimiter=',',skip_header=1)"
   ]
  },
  {
   "cell_type": "code",
   "execution_count": 6,
   "id": "85979b69",
   "metadata": {},
   "outputs": [],
   "source": [
    "data1=np.genfromtxt('DS1_C4_S1_Employee_Data_Challenge.csv',delimiter='',skip_header=1)"
   ]
  },
  {
   "cell_type": "code",
   "execution_count": 7,
   "id": "9edc4078",
   "metadata": {},
   "outputs": [
    {
     "data": {
      "text/plain": [
       "array([nan, nan, nan, nan, nan, nan, nan, nan, nan, nan, nan, nan, nan,\n",
       "       nan, nan, nan, nan, nan, nan, nan, nan, nan, nan, nan, nan, nan,\n",
       "       nan, nan, nan, nan, nan, nan, nan, nan, nan, nan, nan, nan, nan,\n",
       "       nan, nan, nan, nan, nan, nan, nan, nan, nan, nan, nan])"
      ]
     },
     "execution_count": 7,
     "metadata": {},
     "output_type": "execute_result"
    }
   ],
   "source": [
    "data1"
   ]
  },
  {
   "cell_type": "code",
   "execution_count": 8,
   "id": "bbd04e2d",
   "metadata": {},
   "outputs": [
    {
     "data": {
      "text/plain": [
       "array([[ 1., 22.],\n",
       "       [ 2., 27.],\n",
       "       [ 3., 31.],\n",
       "       [ 4., 29.],\n",
       "       [ 5., 27.],\n",
       "       [ 6., 26.],\n",
       "       [ 7., 27.],\n",
       "       [ 8., 23.],\n",
       "       [ 9., 27.],\n",
       "       [10., 32.],\n",
       "       [11., 28.],\n",
       "       [12., 27.],\n",
       "       [13., 22.],\n",
       "       [14., 27.],\n",
       "       [15., 35.],\n",
       "       [16., 33.],\n",
       "       [17., 28.],\n",
       "       [18., 22.],\n",
       "       [19., 25.],\n",
       "       [20., 27.],\n",
       "       [21., 37.],\n",
       "       [22., 27.],\n",
       "       [23., 24.],\n",
       "       [24., 27.],\n",
       "       [25., 28.],\n",
       "       [26., 26.],\n",
       "       [27., 27.],\n",
       "       [28., 27.],\n",
       "       [29., 29.],\n",
       "       [30., 49.],\n",
       "       [31., 26.],\n",
       "       [32., 32.],\n",
       "       [33., 26.],\n",
       "       [34., 24.],\n",
       "       [35., 24.],\n",
       "       [36., 23.],\n",
       "       [37., 28.],\n",
       "       [38., 28.],\n",
       "       [39., 22.],\n",
       "       [40., 26.],\n",
       "       [41., 32.],\n",
       "       [42., 35.],\n",
       "       [43., 33.],\n",
       "       [44., 31.],\n",
       "       [45., 30.],\n",
       "       [46., 36.],\n",
       "       [47., 22.],\n",
       "       [48., 23.],\n",
       "       [49., 32.],\n",
       "       [50., 34.]])"
      ]
     },
     "execution_count": 8,
     "metadata": {},
     "output_type": "execute_result"
    }
   ],
   "source": [
    "data=np.genfromtxt('DS1_C4_S1_Employee_Data_Challenge.csv',delimiter=',',skip_header=1)\n",
    "data"
   ]
  },
  {
   "cell_type": "code",
   "execution_count": null,
   "id": "cf5d60aa",
   "metadata": {},
   "outputs": [],
   "source": []
  },
  {
   "cell_type": "code",
   "execution_count": null,
   "id": "7b268b8f",
   "metadata": {},
   "outputs": [],
   "source": []
  },
  {
   "cell_type": "code",
   "execution_count": null,
   "id": "bb185bb6",
   "metadata": {},
   "outputs": [],
   "source": []
  },
  {
   "cell_type": "code",
   "execution_count": null,
   "id": "38e0239b",
   "metadata": {},
   "outputs": [],
   "source": []
  },
  {
   "cell_type": "code",
   "execution_count": 10,
   "id": "9e98b269",
   "metadata": {},
   "outputs": [],
   "source": [
    "data1=np.genfromtxt('DS1_C4_S1_Employee_Data_Challenge.csv',delimiter=',',skip_header=1)"
   ]
  },
  {
   "cell_type": "code",
   "execution_count": 2,
   "id": "a5815153",
   "metadata": {},
   "outputs": [],
   "source": [
    "data=np.genfromtxt('DS1_C4_S1_Employee_Data_Challenge.csv',delimiter=',',skip_header=1)"
   ]
  },
  {
   "cell_type": "code",
   "execution_count": 4,
   "id": "56f233fa",
   "metadata": {},
   "outputs": [],
   "source": [
    "data=np.genfromtxt('DS1_C4_S1_Employee_Data_Challenge.csv',delimiter=',',skip_header=1)"
   ]
  },
  {
   "cell_type": "code",
   "execution_count": 8,
   "id": "b17be0dc",
   "metadata": {},
   "outputs": [],
   "source": [
    "data=np.genfromtxt('DS1_C4_S1_Employee_Data_Challenge.csv',delimiter=',',skip_header=1)"
   ]
  },
  {
   "cell_type": "code",
   "execution_count": null,
   "id": "0477700d",
   "metadata": {},
   "outputs": [],
   "source": []
  },
  {
   "cell_type": "code",
   "execution_count": null,
   "id": "f8a3d377",
   "metadata": {},
   "outputs": [],
   "source": [
    ",m=np.genfromtxt('DS1_C4_S1_Employee_Data_Challenge.csv',delimeter=',',skip_hede1)"
   ]
  },
  {
   "cell_type": "code",
   "execution_count": 6,
   "id": "da7c688f",
   "metadata": {},
   "outputs": [],
   "source": [
    "data=np.genfromtxt('DS1_C4_S1_Employee_Data_Challenge.csv',delimiter=',',skip_header=1)"
   ]
  },
  {
   "cell_type": "code",
   "execution_count": 5,
   "id": "47925951",
   "metadata": {},
   "outputs": [],
   "source": [
    "data=np.genfromtxt('DS1_C4_S1_Employee_Data_Challenge.csv',delimiter=',',skip_header=1)"
   ]
  },
  {
   "cell_type": "code",
   "execution_count": 6,
   "id": "039c9bae",
   "metadata": {},
   "outputs": [
    {
     "ename": "AttributeError",
     "evalue": "'numpy.ndarray' object has no attribute 'mo'",
     "output_type": "error",
     "traceback": [
      "\u001b[1;31m---------------------------------------------------------------------------\u001b[0m",
      "\u001b[1;31mAttributeError\u001b[0m                            Traceback (most recent call last)",
      "Cell \u001b[1;32mIn[6], line 1\u001b[0m\n\u001b[1;32m----> 1\u001b[0m \u001b[43mdata\u001b[49m\u001b[38;5;241;43m.\u001b[39;49m\u001b[43mmo\u001b[49m\u001b[38;5;241m.\u001b[39mgenfromnxt(\u001b[38;5;124m'\u001b[39m\u001b[38;5;124mDS1_C4_S1_Employee_Data_Challenge.csv\u001b[39m\u001b[38;5;124m'\u001b[39m,delimiter\u001b[38;5;241m=\u001b[39m\u001b[38;5;124m'\u001b[39m\u001b[38;5;124m,\u001b[39m\u001b[38;5;124m'\u001b[39m,kip_header\u001b[38;5;241m=\u001b[39m\u001b[38;5;241m1\u001b[39m)\n",
      "\u001b[1;31mAttributeError\u001b[0m: 'numpy.ndarray' object has no attribute 'mo'"
     ]
    }
   ],
   "source": [
    "data.mo.genfromnxt('DS1_C4_S1_Employee_Data_Challenge.csv',delimiter=',',kip_header=1)"
   ]
  },
  {
   "cell_type": "code",
   "execution_count": 44,
   "id": "7bbfca83",
   "metadata": {},
   "outputs": [
    {
     "data": {
      "text/plain": [
       "array([[ 1., 22.],\n",
       "       [ 2., 27.],\n",
       "       [ 3., 31.],\n",
       "       [ 4., 29.],\n",
       "       [ 5., 27.],\n",
       "       [ 6., 26.],\n",
       "       [ 7., 27.],\n",
       "       [ 8., 23.],\n",
       "       [ 9., 27.],\n",
       "       [10., 32.],\n",
       "       [11., 28.],\n",
       "       [12., 27.],\n",
       "       [13., 22.],\n",
       "       [14., 27.],\n",
       "       [15., 35.],\n",
       "       [16., 33.],\n",
       "       [17., 28.],\n",
       "       [18., 22.],\n",
       "       [19., 25.],\n",
       "       [20., 27.],\n",
       "       [21., 37.],\n",
       "       [22., 27.],\n",
       "       [23., 24.],\n",
       "       [24., 27.],\n",
       "       [25., 28.],\n",
       "       [26., 26.],\n",
       "       [27., 27.],\n",
       "       [28., 27.],\n",
       "       [29., 29.],\n",
       "       [30., 49.],\n",
       "       [31., 26.],\n",
       "       [32., 32.],\n",
       "       [33., 26.],\n",
       "       [34., 24.],\n",
       "       [35., 24.],\n",
       "       [36., 23.],\n",
       "       [37., 28.],\n",
       "       [38., 28.],\n",
       "       [39., 22.],\n",
       "       [40., 26.],\n",
       "       [41., 32.],\n",
       "       [42., 35.],\n",
       "       [43., 33.],\n",
       "       [44., 31.],\n",
       "       [45., 30.],\n",
       "       [46., 36.],\n",
       "       [47., 22.],\n",
       "       [48., 23.],\n",
       "       [49., 32.],\n",
       "       [50., 34.]])"
      ]
     },
     "execution_count": 44,
     "metadata": {},
     "output_type": "execute_result"
    }
   ],
   "source": [
    "data"
   ]
  },
  {
   "cell_type": "code",
   "execution_count": null,
   "id": "657be9c3",
   "metadata": {},
   "outputs": [],
   "source": []
  },
  {
   "cell_type": "code",
   "execution_count": 4,
   "id": "4ab228dc",
   "metadata": {},
   "outputs": [
    {
     "data": {
      "text/plain": [
       "array([[ 1., 22.],\n",
       "       [ 2., 27.],\n",
       "       [ 3., 31.],\n",
       "       [ 4., 29.],\n",
       "       [ 5., 27.],\n",
       "       [ 6., 26.],\n",
       "       [ 7., 27.],\n",
       "       [ 8., 23.],\n",
       "       [ 9., 27.],\n",
       "       [10., 32.],\n",
       "       [11., 28.],\n",
       "       [12., 27.],\n",
       "       [13., 22.],\n",
       "       [14., 27.],\n",
       "       [15., 35.],\n",
       "       [16., 33.],\n",
       "       [17., 28.],\n",
       "       [18., 22.],\n",
       "       [19., 25.],\n",
       "       [20., 27.],\n",
       "       [21., 37.],\n",
       "       [22., 27.],\n",
       "       [23., 24.],\n",
       "       [24., 27.],\n",
       "       [25., 28.],\n",
       "       [26., 26.],\n",
       "       [27., 27.],\n",
       "       [28., 27.],\n",
       "       [29., 29.],\n",
       "       [30., 49.],\n",
       "       [31., 26.],\n",
       "       [32., 32.],\n",
       "       [33., 26.],\n",
       "       [34., 24.],\n",
       "       [35., 24.],\n",
       "       [36., 23.],\n",
       "       [37., 28.],\n",
       "       [38., 28.],\n",
       "       [39., 22.],\n",
       "       [40., 26.],\n",
       "       [41., 32.],\n",
       "       [42., 35.],\n",
       "       [43., 33.],\n",
       "       [44., 31.],\n",
       "       [45., 30.],\n",
       "       [46., 36.],\n",
       "       [47., 22.],\n",
       "       [48., 23.],\n",
       "       [49., 32.],\n",
       "       [50., 34.]])"
      ]
     },
     "execution_count": 4,
     "metadata": {},
     "output_type": "execute_result"
    }
   ],
   "source": [
    "data=np.genfromtxt('DS1_C4_S1_Employee_Data_Challenge.csv',delimiter=',',skip_header=1)\n",
    "data"
   ]
  },
  {
   "cell_type": "code",
   "execution_count": 2,
   "id": "62382f53",
   "metadata": {},
   "outputs": [
    {
     "data": {
      "text/plain": [
       "array([[ 1., 22.],\n",
       "       [ 2., 27.],\n",
       "       [ 3., 31.],\n",
       "       [ 4., 29.],\n",
       "       [ 5., 27.],\n",
       "       [ 6., 26.],\n",
       "       [ 7., 27.],\n",
       "       [ 8., 23.],\n",
       "       [ 9., 27.],\n",
       "       [10., 32.],\n",
       "       [11., 28.],\n",
       "       [12., 27.],\n",
       "       [13., 22.],\n",
       "       [14., 27.],\n",
       "       [15., 35.],\n",
       "       [16., 33.],\n",
       "       [17., 28.],\n",
       "       [18., 22.],\n",
       "       [19., 25.],\n",
       "       [20., 27.],\n",
       "       [21., 37.],\n",
       "       [22., 27.],\n",
       "       [23., 24.],\n",
       "       [24., 27.],\n",
       "       [25., 28.],\n",
       "       [26., 26.],\n",
       "       [27., 27.],\n",
       "       [28., 27.],\n",
       "       [29., 29.],\n",
       "       [30., 49.],\n",
       "       [31., 26.],\n",
       "       [32., 32.],\n",
       "       [33., 26.],\n",
       "       [34., 24.],\n",
       "       [35., 24.],\n",
       "       [36., 23.],\n",
       "       [37., 28.],\n",
       "       [38., 28.],\n",
       "       [39., 22.],\n",
       "       [40., 26.],\n",
       "       [41., 32.],\n",
       "       [42., 35.],\n",
       "       [43., 33.],\n",
       "       [44., 31.],\n",
       "       [45., 30.],\n",
       "       [46., 36.],\n",
       "       [47., 22.],\n",
       "       [48., 23.],\n",
       "       [49., 32.],\n",
       "       [50., 34.]])"
      ]
     },
     "execution_count": 2,
     "metadata": {},
     "output_type": "execute_result"
    }
   ],
   "source": [
    "data=np.genfromtxt('DS1_C4_S1_Employee_Data_Challenge.csv',delimiter=',' ,skip_header=1)\n",
    "data"
   ]
  },
  {
   "cell_type": "code",
   "execution_count": 3,
   "id": "5b15ae49",
   "metadata": {},
   "outputs": [
    {
     "data": {
      "text/plain": [
       "28.26"
      ]
     },
     "execution_count": 3,
     "metadata": {},
     "output_type": "execute_result"
    }
   ],
   "source": [
    "s=data[:,1]\n",
    "a=np.mean(s)\n",
    "a"
   ]
  },
  {
   "cell_type": "code",
   "execution_count": 14,
   "id": "61b34add",
   "metadata": {},
   "outputs": [
    {
     "data": {
      "text/plain": [
       "26.88"
      ]
     },
     "execution_count": 14,
     "metadata": {},
     "output_type": "execute_result"
    }
   ],
   "source": [
    "s=data[:]\n",
    "s.mean()"
   ]
  },
  {
   "cell_type": "code",
   "execution_count": 9,
   "id": "27c2fc28",
   "metadata": {},
   "outputs": [
    {
     "data": {
      "text/plain": [
       "11.5"
      ]
     },
     "execution_count": 9,
     "metadata": {},
     "output_type": "execute_result"
    }
   ],
   "source": [
    "d=data1[:1]\n",
    "c=d.mean()\n",
    "c"
   ]
  },
  {
   "cell_type": "code",
   "execution_count": 12,
   "id": "e6f742fe",
   "metadata": {},
   "outputs": [
    {
     "data": {
      "text/plain": [
       "array([[ 1., 22.]])"
      ]
     },
     "execution_count": 12,
     "metadata": {},
     "output_type": "execute_result"
    }
   ],
   "source": [
    "s=data[:1]\n",
    "s"
   ]
  },
  {
   "cell_type": "code",
   "execution_count": 11,
   "id": "5844c574",
   "metadata": {},
   "outputs": [],
   "source": [
    "d=data[:1]\n",
    "g=np.mean(d)"
   ]
  },
  {
   "cell_type": "code",
   "execution_count": 13,
   "id": "c9481c57",
   "metadata": {},
   "outputs": [
    {
     "data": {
      "text/plain": [
       "11.5"
      ]
     },
     "execution_count": 13,
     "metadata": {},
     "output_type": "execute_result"
    }
   ],
   "source": [
    "g"
   ]
  },
  {
   "cell_type": "code",
   "execution_count": null,
   "id": "6277dad0",
   "metadata": {},
   "outputs": [],
   "source": []
  },
  {
   "cell_type": "code",
   "execution_count": 7,
   "id": "827fc3ce",
   "metadata": {},
   "outputs": [
    {
     "data": {
      "text/plain": [
       "28.26"
      ]
     },
     "execution_count": 7,
     "metadata": {},
     "output_type": "execute_result"
    }
   ],
   "source": [
    "d=data[:,1]\n",
    "c=np.mean(d)\n",
    "c"
   ]
  },
  {
   "cell_type": "code",
   "execution_count": 14,
   "id": "cf830749",
   "metadata": {},
   "outputs": [
    {
     "data": {
      "text/plain": [
       "28.26"
      ]
     },
     "execution_count": 14,
     "metadata": {},
     "output_type": "execute_result"
    }
   ],
   "source": [
    "c=data[:,1]\n",
    "x=np.mean(c)\n",
    "x"
   ]
  },
  {
   "cell_type": "code",
   "execution_count": 8,
   "id": "55e46b0a",
   "metadata": {},
   "outputs": [
    {
     "data": {
      "text/plain": [
       "25.5"
      ]
     },
     "execution_count": 8,
     "metadata": {},
     "output_type": "execute_result"
    }
   ],
   "source": [
    "d=data[:,0]\n",
    "n=np.mean(d)\n",
    "n"
   ]
  },
  {
   "cell_type": "code",
   "execution_count": 3,
   "id": "71a8f546",
   "metadata": {},
   "outputs": [],
   "source": [
    "data4=np.genfromtxt('DS1_C4_S1_Employee_Data_Challenge.csv',delimiter=',',skip_header=1)"
   ]
  },
  {
   "cell_type": "code",
   "execution_count": null,
   "id": "9d50519b",
   "metadata": {},
   "outputs": [],
   "source": []
  },
  {
   "cell_type": "markdown",
   "id": "70d233ab",
   "metadata": {},
   "source": [
    "# task 2"
   ]
  },
  {
   "cell_type": "code",
   "execution_count": 16,
   "id": "7db531a9",
   "metadata": {},
   "outputs": [
    {
     "data": {
      "text/plain": [
       "array([False,  True,  True,  True,  True,  True,  True, False,  True,\n",
       "        True,  True,  True, False,  True,  True,  True,  True, False,\n",
       "        True,  True,  True,  True, False,  True,  True,  True,  True,\n",
       "        True,  True,  True,  True,  True,  True, False, False, False,\n",
       "        True,  True, False,  True,  True,  True,  True,  True,  True,\n",
       "        True, False, False,  True,  True])"
      ]
     },
     "execution_count": 16,
     "metadata": {},
     "output_type": "execute_result"
    }
   ],
   "source": [
    "b=data[:,1]\n",
    "age=b>=25\n",
    "age"
   ]
  },
  {
   "cell_type": "code",
   "execution_count": 15,
   "id": "d3cb06b8",
   "metadata": {},
   "outputs": [
    {
     "data": {
      "text/plain": [
       "array([False,  True,  True,  True,  True,  True,  True, False,  True,\n",
       "        True,  True,  True, False,  True,  True,  True,  True, False,\n",
       "        True,  True,  True,  True, False,  True,  True,  True,  True,\n",
       "        True,  True,  True,  True,  True,  True, False, False, False,\n",
       "        True,  True, False,  True,  True,  True,  True,  True,  True,\n",
       "        True, False, False,  True,  True])"
      ]
     },
     "execution_count": 15,
     "metadata": {},
     "output_type": "execute_result"
    }
   ],
   "source": [
    "b=data[:,1]\n",
    "age=b>=25\n",
    "age"
   ]
  },
  {
   "cell_type": "code",
   "execution_count": 16,
   "id": "a4d284b1",
   "metadata": {},
   "outputs": [
    {
     "data": {
      "text/plain": [
       "39"
      ]
     },
     "execution_count": 16,
     "metadata": {},
     "output_type": "execute_result"
    }
   ],
   "source": [
    "c=len(data[age,1])\n",
    "c"
   ]
  },
  {
   "cell_type": "code",
   "execution_count": 18,
   "id": "8e658e26",
   "metadata": {},
   "outputs": [
    {
     "data": {
      "text/plain": [
       "39"
      ]
     },
     "execution_count": 18,
     "metadata": {},
     "output_type": "execute_result"
    }
   ],
   "source": [
    "c=len(data[age,1])\n",
    "c"
   ]
  },
  {
   "cell_type": "code",
   "execution_count": null,
   "id": "2d4233b6",
   "metadata": {},
   "outputs": [],
   "source": []
  },
  {
   "cell_type": "code",
   "execution_count": 21,
   "id": "b3d712cd",
   "metadata": {},
   "outputs": [
    {
     "data": {
      "text/plain": [
       "array([ True,  True,  True,  True,  True,  True,  True,  True,  True,\n",
       "        True,  True,  True,  True,  True,  True,  True,  True,  True,\n",
       "        True,  True,  True,  True,  True,  True,  True,  True,  True,\n",
       "        True,  True,  True,  True,  True,  True,  True,  True,  True,\n",
       "        True,  True,  True,  True,  True,  True,  True,  True,  True,\n",
       "        True,  True,  True,  True,  True])"
      ]
     },
     "execution_count": 21,
     "metadata": {},
     "output_type": "execute_result"
    }
   ],
   "source": [
    "hen=data[:,1]\n",
    "lam=hen>=10\n",
    "lam"
   ]
  },
  {
   "cell_type": "code",
   "execution_count": 22,
   "id": "a7edd88f",
   "metadata": {},
   "outputs": [
    {
     "data": {
      "text/plain": [
       "50"
      ]
     },
     "execution_count": 22,
     "metadata": {},
     "output_type": "execute_result"
    }
   ],
   "source": [
    "n=len(data[lam,1])\n",
    "n"
   ]
  },
  {
   "cell_type": "code",
   "execution_count": 16,
   "id": "01cfe535",
   "metadata": {},
   "outputs": [
    {
     "data": {
      "text/plain": [
       "array([ 1.,  2.,  3.,  4.,  5.,  6.,  7.,  8.,  9., 10., 11., 12., 13.,\n",
       "       14., 15., 16., 17., 18., 19., 20., 21., 22., 23., 24., 25., 26.,\n",
       "       27., 28., 29., 30., 31., 32., 33., 34., 35., 36., 37., 38., 39.,\n",
       "       40., 41., 42., 43., 44., 45., 46., 47., 48., 49., 50.])"
      ]
     },
     "execution_count": 16,
     "metadata": {},
     "output_type": "execute_result"
    }
   ],
   "source": [
    "c=data[:,0]\n",
    "c"
   ]
  },
  {
   "cell_type": "code",
   "execution_count": 15,
   "id": "b6659c7a",
   "metadata": {},
   "outputs": [
    {
     "data": {
      "text/plain": [
       "array([ 1.,  2.,  3.,  4.,  5.,  6.,  7.,  8.,  9., 10., 11., 12., 13.,\n",
       "       14., 15., 16., 17., 18., 19., 20., 21., 22., 23., 24., 25., 26.,\n",
       "       27., 28., 29., 30., 31., 32., 33., 34., 35., 36., 37., 38., 39.,\n",
       "       40., 41., 42., 43., 44., 45., 46., 47., 48., 49., 50.])"
      ]
     },
     "execution_count": 15,
     "metadata": {},
     "output_type": "execute_result"
    }
   ],
   "source": [
    "b=data1[:,0]\n",
    "b"
   ]
  },
  {
   "cell_type": "code",
   "execution_count": 13,
   "id": "726d86f0",
   "metadata": {},
   "outputs": [
    {
     "data": {
      "text/plain": [
       "array([False,  True,  True,  True,  True,  True,  True, False,  True,\n",
       "        True,  True,  True, False,  True,  True,  True,  True, False,\n",
       "        True,  True,  True,  True, False,  True,  True,  True,  True,\n",
       "        True,  True,  True,  True,  True,  True, False, False, False,\n",
       "        True,  True, False,  True,  True,  True,  True,  True,  True,\n",
       "        True, False, False,  True,  True])"
      ]
     },
     "execution_count": 13,
     "metadata": {},
     "output_type": "execute_result"
    }
   ],
   "source": [
    "b=data[:,1]\n",
    "age=b>=25\n",
    "age"
   ]
  },
  {
   "cell_type": "code",
   "execution_count": 18,
   "id": "d99405f6",
   "metadata": {},
   "outputs": [
    {
     "data": {
      "text/plain": [
       "array([ True, False, False, False, False, False, False,  True, False,\n",
       "       False, False, False,  True, False, False, False, False,  True,\n",
       "        True, False, False, False,  True, False, False, False, False,\n",
       "       False, False, False, False, False, False,  True,  True,  True,\n",
       "       False, False,  True, False, False, False, False, False, False,\n",
       "       False,  True,  True, False, False])"
      ]
     },
     "execution_count": 18,
     "metadata": {},
     "output_type": "execute_result"
    }
   ],
   "source": [
    "n=data[:,1]\n",
    "age=n<=25\n",
    "age"
   ]
  },
  {
   "cell_type": "code",
   "execution_count": null,
   "id": "389ad8a4",
   "metadata": {},
   "outputs": [],
   "source": []
  },
  {
   "cell_type": "code",
   "execution_count": null,
   "id": "764e56e1",
   "metadata": {},
   "outputs": [],
   "source": []
  },
  {
   "cell_type": "code",
   "execution_count": null,
   "id": "7c8afad2",
   "metadata": {},
   "outputs": [],
   "source": []
  },
  {
   "cell_type": "code",
   "execution_count": 20,
   "id": "551a2929",
   "metadata": {},
   "outputs": [
    {
     "data": {
      "text/plain": [
       "array([[ 2., 27.],\n",
       "       [ 3., 31.],\n",
       "       [ 4., 29.],\n",
       "       [ 5., 27.],\n",
       "       [ 6., 26.],\n",
       "       [ 7., 27.],\n",
       "       [ 9., 27.],\n",
       "       [10., 32.],\n",
       "       [11., 28.],\n",
       "       [12., 27.],\n",
       "       [14., 27.],\n",
       "       [15., 35.],\n",
       "       [16., 33.],\n",
       "       [17., 28.],\n",
       "       [19., 25.],\n",
       "       [20., 27.],\n",
       "       [21., 37.],\n",
       "       [22., 27.],\n",
       "       [24., 27.],\n",
       "       [25., 28.],\n",
       "       [26., 26.],\n",
       "       [27., 27.],\n",
       "       [28., 27.],\n",
       "       [29., 29.],\n",
       "       [30., 49.],\n",
       "       [31., 26.],\n",
       "       [32., 32.],\n",
       "       [33., 26.],\n",
       "       [37., 28.],\n",
       "       [38., 28.],\n",
       "       [40., 26.],\n",
       "       [41., 32.],\n",
       "       [42., 35.],\n",
       "       [43., 33.],\n",
       "       [44., 31.],\n",
       "       [45., 30.],\n",
       "       [46., 36.],\n",
       "       [49., 32.],\n",
       "       [50., 34.]])"
      ]
     },
     "execution_count": 20,
     "metadata": {},
     "output_type": "execute_result"
    }
   ],
   "source": [
    "g=data[:,1]\n",
    "age=g>=25\n",
    "data[age,0:2]"
   ]
  },
  {
   "cell_type": "code",
   "execution_count": 21,
   "id": "815108fc",
   "metadata": {},
   "outputs": [
    {
     "name": "stdout",
     "output_type": "stream",
     "text": [
      "total number of employees who are over 25 years old =39\n"
     ]
    }
   ],
   "source": [
    "d=len(data[age,1])\n",
    "print (\"total number of employees who are over 25 years old ={}\".format(d))"
   ]
  },
  {
   "cell_type": "code",
   "execution_count": 17,
   "id": "1a61b5da",
   "metadata": {},
   "outputs": [
    {
     "ename": "NameError",
     "evalue": "name 'age' is not defined",
     "output_type": "error",
     "traceback": [
      "\u001b[1;31m---------------------------------------------------------------------------\u001b[0m",
      "\u001b[1;31mNameError\u001b[0m                                 Traceback (most recent call last)",
      "Cell \u001b[1;32mIn[17], line 1\u001b[0m\n\u001b[1;32m----> 1\u001b[0m c\u001b[38;5;241m=\u001b[39m\u001b[38;5;28mlen\u001b[39m(data[\u001b[43mage\u001b[49m,\u001b[38;5;241m1\u001b[39m])\n",
      "\u001b[1;31mNameError\u001b[0m: name 'age' is not defined"
     ]
    }
   ],
   "source": [
    "c=len(data[age,1])"
   ]
  },
  {
   "cell_type": "markdown",
   "id": "79d6ff29",
   "metadata": {},
   "source": [
    "# task 3"
   ]
  },
  {
   "cell_type": "code",
   "execution_count": 24,
   "id": "f4abd678",
   "metadata": {
    "scrolled": true
   },
   "outputs": [
    {
     "data": {
      "text/plain": [
       "array([[ 3., 31.],\n",
       "       [10., 32.],\n",
       "       [16., 33.],\n",
       "       [32., 32.],\n",
       "       [41., 32.],\n",
       "       [43., 33.],\n",
       "       [44., 31.],\n",
       "       [49., 32.],\n",
       "       [50., 34.]])"
      ]
     },
     "execution_count": 24,
     "metadata": {},
     "output_type": "execute_result"
    }
   ],
   "source": [
    "age=data[:,1]\n",
    "m=(age>30) & (age<35)\n",
    "data[m, 0:2]"
   ]
  },
  {
   "cell_type": "code",
   "execution_count": 32,
   "id": "9ea738ed",
   "metadata": {},
   "outputs": [
    {
     "data": {
      "text/plain": [
       "array([[ 3., 31.],\n",
       "       [10., 32.],\n",
       "       [16., 33.],\n",
       "       [32., 32.],\n",
       "       [41., 32.],\n",
       "       [43., 33.],\n",
       "       [44., 31.],\n",
       "       [49., 32.],\n",
       "       [50., 34.]])"
      ]
     },
     "execution_count": 32,
     "metadata": {},
     "output_type": "execute_result"
    }
   ],
   "source": [
    "age=data[:,1]\n",
    "m=(age>30) & (age<35)\n",
    "data[m, 0:2]"
   ]
  },
  {
   "cell_type": "code",
   "execution_count": 29,
   "id": "cf6fc282",
   "metadata": {},
   "outputs": [
    {
     "data": {
      "text/plain": [
       "array([[ 3., 31.],\n",
       "       [10., 32.],\n",
       "       [16., 33.],\n",
       "       [32., 32.],\n",
       "       [41., 32.],\n",
       "       [43., 33.],\n",
       "       [44., 31.],\n",
       "       [49., 32.],\n",
       "       [50., 34.]])"
      ]
     },
     "execution_count": 29,
     "metadata": {},
     "output_type": "execute_result"
    }
   ],
   "source": [
    "age=data[:,1]\n",
    "m=(age>30)&(age<35)\n",
    "data[m,0:5]"
   ]
  },
  {
   "cell_type": "code",
   "execution_count": null,
   "id": "4ccc6cb4",
   "metadata": {},
   "outputs": [],
   "source": []
  },
  {
   "cell_type": "code",
   "execution_count": 15,
   "id": "9b88e6e2",
   "metadata": {},
   "outputs": [
    {
     "data": {
      "text/plain": [
       "array([[ 3., 31.],\n",
       "       [10., 32.],\n",
       "       [16., 33.],\n",
       "       [32., 32.],\n",
       "       [41., 32.],\n",
       "       [43., 33.],\n",
       "       [44., 31.],\n",
       "       [49., 32.],\n",
       "       [50., 34.]])"
      ]
     },
     "execution_count": 15,
     "metadata": {},
     "output_type": "execute_result"
    }
   ],
   "source": [
    "age=data[:,1]\n",
    "m=(age>30)& (age<35)\n",
    "data[m,0:2]"
   ]
  },
  {
   "cell_type": "code",
   "execution_count": 17,
   "id": "70b4461b",
   "metadata": {},
   "outputs": [
    {
     "name": "stdout",
     "output_type": "stream",
     "text": [
      "totrsl no of mployees = 9\n"
     ]
    }
   ],
   "source": [
    "a=len(data[m,1])\n",
    "print('totrsl no of mployees = {}'.format(a))"
   ]
  },
  {
   "cell_type": "code",
   "execution_count": 58,
   "id": "4fc0b3bf",
   "metadata": {},
   "outputs": [
    {
     "name": "stdout",
     "output_type": "stream",
     "text": [
      "total number of employees who are 30 to 35 years old =9\n"
     ]
    }
   ],
   "source": [
    "a=len(data[m,1])\n",
    "print (\"total number of employees who are 30 to 35 years old ={}\".format(a))"
   ]
  },
  {
   "cell_type": "markdown",
   "id": "e7209840",
   "metadata": {},
   "source": [
    "# part 2"
   ]
  },
  {
   "cell_type": "code",
   "execution_count": 23,
   "id": "fd45f39c",
   "metadata": {},
   "outputs": [],
   "source": [
    "import numpy as np"
   ]
  },
  {
   "cell_type": "code",
   "execution_count": null,
   "id": "949ae78b",
   "metadata": {},
   "outputs": [],
   "source": []
  },
  {
   "cell_type": "code",
   "execution_count": 24,
   "id": "5fb7600f",
   "metadata": {},
   "outputs": [
    {
     "data": {
      "text/plain": [
       "array([[  1.,  19.,  15.,  39.],\n",
       "       [  2.,  21.,  15.,  81.],\n",
       "       [  3.,  20.,  16.,   6.],\n",
       "       [  4.,  23.,  16.,  77.],\n",
       "       [  5.,  31.,  17.,  40.],\n",
       "       [  6.,  22.,  17.,  76.],\n",
       "       [  7.,  35.,  18.,   6.],\n",
       "       [  8.,  23.,  18.,  94.],\n",
       "       [  9.,  64.,  19.,   3.],\n",
       "       [ 10.,  30.,  19.,  72.],\n",
       "       [ 11.,  67.,  19.,  14.],\n",
       "       [ 12.,  35.,  19.,  99.],\n",
       "       [ 13.,  58.,  20.,  15.],\n",
       "       [ 14.,  24.,  20.,  77.],\n",
       "       [ 15.,  37.,  20.,  13.],\n",
       "       [ 16.,  22.,  20.,  79.],\n",
       "       [ 17.,  35.,  21.,  35.],\n",
       "       [ 18.,  20.,  21.,  66.],\n",
       "       [ 19.,  52.,  23.,  29.],\n",
       "       [ 20.,  35.,  23.,  98.],\n",
       "       [ 21.,  35.,  24.,  35.],\n",
       "       [ 22.,  25.,  24.,  73.],\n",
       "       [ 23.,  46.,  25.,   5.],\n",
       "       [ 24.,  31.,  25.,  73.],\n",
       "       [ 25.,  54.,  28.,  14.],\n",
       "       [ 26.,  29.,  28.,  82.],\n",
       "       [ 27.,  45.,  28.,  32.],\n",
       "       [ 28.,  35.,  28.,  61.],\n",
       "       [ 29.,  40.,  29.,  31.],\n",
       "       [ 30.,  23.,  29.,  87.],\n",
       "       [ 31.,  60.,  30.,   4.],\n",
       "       [ 32.,  21.,  30.,  73.],\n",
       "       [ 33.,  53.,  33.,   4.],\n",
       "       [ 34.,  18.,  33.,  92.],\n",
       "       [ 35.,  49.,  33.,  14.],\n",
       "       [ 36.,  21.,  33.,  81.],\n",
       "       [ 37.,  42.,  34.,  17.],\n",
       "       [ 38.,  30.,  34.,  73.],\n",
       "       [ 39.,  36.,  37.,  26.],\n",
       "       [ 40.,  20.,  37.,  75.],\n",
       "       [ 41.,  65.,  38.,  35.],\n",
       "       [ 42.,  24.,  38.,  92.],\n",
       "       [ 43.,  48.,  39.,  36.],\n",
       "       [ 44.,  31.,  39.,  61.],\n",
       "       [ 45.,  49.,  39.,  28.],\n",
       "       [ 46.,  24.,  39.,  65.],\n",
       "       [ 47.,  50.,  40.,  55.],\n",
       "       [ 48.,  27.,  40.,  47.],\n",
       "       [ 49.,  29.,  40.,  42.],\n",
       "       [ 50.,  31.,  40.,  42.],\n",
       "       [ 51.,  49.,  42.,  52.],\n",
       "       [ 52.,  33.,  42.,  60.],\n",
       "       [ 53.,  31.,  43.,  54.],\n",
       "       [ 54.,  59.,  43.,  60.],\n",
       "       [ 55.,  50.,  43.,  45.],\n",
       "       [ 56.,  47.,  43.,  41.],\n",
       "       [ 57.,  51.,  44.,  50.],\n",
       "       [ 58.,  69.,  44.,  46.],\n",
       "       [ 59.,  27.,  46.,  51.],\n",
       "       [ 60.,  53.,  46.,  46.],\n",
       "       [ 61.,  70.,  46.,  56.],\n",
       "       [ 62.,  19.,  46.,  55.],\n",
       "       [ 63.,  67.,  47.,  52.],\n",
       "       [ 64.,  54.,  47.,  59.],\n",
       "       [ 65.,  63.,  48.,  51.],\n",
       "       [ 66.,  18.,  48.,  59.],\n",
       "       [ 67.,  43.,  48.,  50.],\n",
       "       [ 68.,  68.,  48.,  48.],\n",
       "       [ 69.,  19.,  48.,  59.],\n",
       "       [ 70.,  32.,  48.,  47.],\n",
       "       [ 71.,  70.,  49.,  55.],\n",
       "       [ 72.,  47.,  49.,  42.],\n",
       "       [ 73.,  60.,  50.,  49.],\n",
       "       [ 74.,  60.,  50.,  56.],\n",
       "       [ 75.,  59.,  54.,  47.],\n",
       "       [ 76.,  26.,  54.,  54.],\n",
       "       [ 77.,  45.,  54.,  53.],\n",
       "       [ 78.,  40.,  54.,  48.],\n",
       "       [ 79.,  23.,  54.,  52.],\n",
       "       [ 80.,  49.,  54.,  42.],\n",
       "       [ 81.,  57.,  54.,  51.],\n",
       "       [ 82.,  38.,  54.,  55.],\n",
       "       [ 83.,  67.,  54.,  41.],\n",
       "       [ 84.,  46.,  54.,  44.],\n",
       "       [ 85.,  21.,  54.,  57.],\n",
       "       [ 86.,  48.,  54.,  46.],\n",
       "       [ 87.,  55.,  57.,  58.],\n",
       "       [ 88.,  22.,  57.,  55.],\n",
       "       [ 89.,  34.,  58.,  60.],\n",
       "       [ 90.,  50.,  58.,  46.],\n",
       "       [ 91.,  68.,  59.,  55.],\n",
       "       [ 92.,  18.,  59.,  41.],\n",
       "       [ 93.,  48.,  60.,  49.],\n",
       "       [ 94.,  40.,  60.,  40.],\n",
       "       [ 95.,  32.,  60.,  42.],\n",
       "       [ 96.,  24.,  60.,  52.],\n",
       "       [ 97.,  47.,  60.,  47.],\n",
       "       [ 98.,  27.,  60.,  50.],\n",
       "       [ 99.,  48.,  61.,  42.],\n",
       "       [100.,  20.,  61.,  49.],\n",
       "       [101.,  23.,  62.,  41.],\n",
       "       [102.,  49.,  62.,  48.],\n",
       "       [103.,  67.,  62.,  59.],\n",
       "       [104.,  26.,  62.,  55.],\n",
       "       [105.,  49.,  62.,  56.],\n",
       "       [106.,  21.,  62.,  42.],\n",
       "       [107.,  66.,  63.,  50.],\n",
       "       [108.,  54.,  63.,  46.],\n",
       "       [109.,  68.,  63.,  43.],\n",
       "       [110.,  66.,  63.,  48.],\n",
       "       [111.,  65.,  63.,  52.],\n",
       "       [112.,  19.,  63.,  54.],\n",
       "       [113.,  38.,  64.,  42.],\n",
       "       [114.,  19.,  64.,  46.],\n",
       "       [115.,  18.,  65.,  48.],\n",
       "       [116.,  19.,  65.,  50.],\n",
       "       [117.,  63.,  65.,  43.],\n",
       "       [118.,  49.,  65.,  59.],\n",
       "       [119.,  51.,  67.,  43.],\n",
       "       [120.,  50.,  67.,  57.],\n",
       "       [121.,  27.,  67.,  56.],\n",
       "       [122.,  38.,  67.,  40.],\n",
       "       [123.,  40.,  69.,  58.],\n",
       "       [124.,  39.,  69.,  91.],\n",
       "       [125.,  23.,  70.,  29.],\n",
       "       [126.,  31.,  70.,  77.],\n",
       "       [127.,  43.,  71.,  35.],\n",
       "       [128.,  40.,  71.,  95.],\n",
       "       [129.,  59.,  71.,  11.],\n",
       "       [130.,  38.,  71.,  75.],\n",
       "       [131.,  47.,  71.,   9.],\n",
       "       [132.,  39.,  71.,  75.],\n",
       "       [133.,  25.,  72.,  34.],\n",
       "       [134.,  31.,  72.,  71.],\n",
       "       [135.,  20.,  73.,   5.],\n",
       "       [136.,  29.,  73.,  88.],\n",
       "       [137.,  44.,  73.,   7.],\n",
       "       [138.,  32.,  73.,  73.],\n",
       "       [139.,  19.,  74.,  10.],\n",
       "       [140.,  35.,  74.,  72.],\n",
       "       [141.,  57.,  75.,   5.],\n",
       "       [142.,  32.,  75.,  93.],\n",
       "       [143.,  28.,  76.,  40.],\n",
       "       [144.,  32.,  76.,  87.],\n",
       "       [145.,  25.,  77.,  12.],\n",
       "       [146.,  28.,  77.,  97.],\n",
       "       [147.,  48.,  77.,  36.],\n",
       "       [148.,  32.,  77.,  74.],\n",
       "       [149.,  34.,  78.,  22.],\n",
       "       [150.,  34.,  78.,  90.],\n",
       "       [151.,  43.,  78.,  17.],\n",
       "       [152.,  39.,  78.,  88.],\n",
       "       [153.,  44.,  78.,  20.],\n",
       "       [154.,  38.,  78.,  76.],\n",
       "       [155.,  47.,  78.,  16.],\n",
       "       [156.,  27.,  78.,  89.],\n",
       "       [157.,  37.,  78.,   1.],\n",
       "       [158.,  30.,  78.,  78.],\n",
       "       [159.,  34.,  78.,   1.],\n",
       "       [160.,  30.,  78.,  73.],\n",
       "       [161.,  56.,  79.,  35.],\n",
       "       [162.,  29.,  79.,  83.],\n",
       "       [163.,  19.,  81.,   5.],\n",
       "       [164.,  31.,  81.,  93.],\n",
       "       [165.,  50.,  85.,  26.],\n",
       "       [166.,  36.,  85.,  75.],\n",
       "       [167.,  42.,  86.,  20.],\n",
       "       [168.,  33.,  86.,  95.],\n",
       "       [169.,  36.,  87.,  27.],\n",
       "       [170.,  32.,  87.,  63.],\n",
       "       [171.,  40.,  87.,  13.],\n",
       "       [172.,  28.,  87.,  75.],\n",
       "       [173.,  36.,  87.,  10.],\n",
       "       [174.,  36.,  87.,  92.],\n",
       "       [175.,  52.,  88.,  13.],\n",
       "       [176.,  30.,  88.,  86.],\n",
       "       [177.,  58.,  88.,  15.],\n",
       "       [178.,  27.,  88.,  69.],\n",
       "       [179.,  59.,  93.,  14.],\n",
       "       [180.,  35.,  93.,  90.],\n",
       "       [181.,  37.,  97.,  32.],\n",
       "       [182.,  32.,  97.,  86.],\n",
       "       [183.,  46.,  98.,  15.],\n",
       "       [184.,  29.,  98.,  88.],\n",
       "       [185.,  41.,  99.,  39.],\n",
       "       [186.,  30.,  99.,  97.],\n",
       "       [187.,  54., 101.,  24.],\n",
       "       [188.,  28., 101.,  68.],\n",
       "       [189.,  41., 103.,  17.],\n",
       "       [190.,  36., 103.,  85.],\n",
       "       [191.,  34., 103.,  23.],\n",
       "       [192.,  32., 103.,  69.],\n",
       "       [193.,  33., 113.,   8.],\n",
       "       [194.,  38., 113.,  91.],\n",
       "       [195.,  47., 120.,  16.],\n",
       "       [196.,  35., 120.,  79.],\n",
       "       [197.,  45., 126.,  28.],\n",
       "       [198.,  32., 126.,  74.],\n",
       "       [199.,  32., 137.,  18.],\n",
       "       [200.,  30., 137.,  83.]])"
      ]
     },
     "execution_count": 24,
     "metadata": {},
     "output_type": "execute_result"
    }
   ],
   "source": [
    "data2=np.genfromtxt('DS1_C4_S1_Shopping_Data_Challenge.csv',delimiter=',' ,skip_header=1)\n",
    "data2"
   ]
  },
  {
   "cell_type": "markdown",
   "id": "80fcb69c",
   "metadata": {},
   "source": [
    "# task 1"
   ]
  },
  {
   "cell_type": "code",
   "execution_count": 25,
   "id": "fd850d3e",
   "metadata": {},
   "outputs": [],
   "source": [
    "age=data2[:,1]\n",
    "between=(age>=20) & (age<=24)"
   ]
  },
  {
   "cell_type": "code",
   "execution_count": 26,
   "id": "6a36c5f7",
   "metadata": {},
   "outputs": [
    {
     "data": {
      "text/plain": [
       "array([[  2.,  21.,  15.,  81.],\n",
       "       [  3.,  20.,  16.,   6.],\n",
       "       [  4.,  23.,  16.,  77.],\n",
       "       [  6.,  22.,  17.,  76.],\n",
       "       [  8.,  23.,  18.,  94.],\n",
       "       [ 14.,  24.,  20.,  77.],\n",
       "       [ 16.,  22.,  20.,  79.],\n",
       "       [ 18.,  20.,  21.,  66.],\n",
       "       [ 30.,  23.,  29.,  87.],\n",
       "       [ 32.,  21.,  30.,  73.],\n",
       "       [ 36.,  21.,  33.,  81.],\n",
       "       [ 40.,  20.,  37.,  75.],\n",
       "       [ 42.,  24.,  38.,  92.],\n",
       "       [ 46.,  24.,  39.,  65.],\n",
       "       [ 79.,  23.,  54.,  52.],\n",
       "       [ 85.,  21.,  54.,  57.],\n",
       "       [ 88.,  22.,  57.,  55.],\n",
       "       [ 96.,  24.,  60.,  52.],\n",
       "       [100.,  20.,  61.,  49.],\n",
       "       [101.,  23.,  62.,  41.],\n",
       "       [106.,  21.,  62.,  42.],\n",
       "       [125.,  23.,  70.,  29.],\n",
       "       [135.,  20.,  73.,   5.]])"
      ]
     },
     "execution_count": 26,
     "metadata": {},
     "output_type": "execute_result"
    }
   ],
   "source": [
    "data2[between,:]"
   ]
  },
  {
   "cell_type": "markdown",
   "id": "4f6387c3",
   "metadata": {},
   "source": [
    "# task 2"
   ]
  },
  {
   "cell_type": "code",
   "execution_count": 27,
   "id": "b8525bf2",
   "metadata": {},
   "outputs": [
    {
     "data": {
      "text/plain": [
       "array([[  2.,  21.,  15.,  81.],\n",
       "       [  8.,  23.,  18.,  94.],\n",
       "       [ 12.,  35.,  19.,  99.],\n",
       "       [ 20.,  35.,  23.,  98.],\n",
       "       [ 26.,  29.,  28.,  82.],\n",
       "       [ 30.,  23.,  29.,  87.],\n",
       "       [ 34.,  18.,  33.,  92.],\n",
       "       [ 36.,  21.,  33.,  81.],\n",
       "       [ 42.,  24.,  38.,  92.],\n",
       "       [124.,  39.,  69.,  91.],\n",
       "       [128.,  40.,  71.,  95.],\n",
       "       [136.,  29.,  73.,  88.],\n",
       "       [142.,  32.,  75.,  93.],\n",
       "       [144.,  32.,  76.,  87.],\n",
       "       [146.,  28.,  77.,  97.],\n",
       "       [150.,  34.,  78.,  90.],\n",
       "       [152.,  39.,  78.,  88.],\n",
       "       [156.,  27.,  78.,  89.],\n",
       "       [162.,  29.,  79.,  83.],\n",
       "       [164.,  31.,  81.,  93.],\n",
       "       [168.,  33.,  86.,  95.],\n",
       "       [174.,  36.,  87.,  92.],\n",
       "       [176.,  30.,  88.,  86.],\n",
       "       [180.,  35.,  93.,  90.],\n",
       "       [182.,  32.,  97.,  86.],\n",
       "       [184.,  29.,  98.,  88.],\n",
       "       [186.,  30.,  99.,  97.],\n",
       "       [190.,  36., 103.,  85.],\n",
       "       [194.,  38., 113.,  91.],\n",
       "       [200.,  30., 137.,  83.]])"
      ]
     },
     "execution_count": 27,
     "metadata": {},
     "output_type": "execute_result"
    }
   ],
   "source": [
    "s=data2[:,3]\n",
    "spend_score=s>80\n",
    "data2[spend_score,:]"
   ]
  },
  {
   "cell_type": "code",
   "execution_count": null,
   "id": "91546e57",
   "metadata": {},
   "outputs": [],
   "source": []
  },
  {
   "cell_type": "code",
   "execution_count": null,
   "id": "774907ad",
   "metadata": {},
   "outputs": [],
   "source": []
  },
  {
   "cell_type": "code",
   "execution_count": null,
   "id": "9beb6a89",
   "metadata": {},
   "outputs": [],
   "source": []
  },
  {
   "cell_type": "markdown",
   "id": "ed65d139",
   "metadata": {},
   "source": [
    "# task 3"
   ]
  },
  {
   "cell_type": "code",
   "execution_count": 67,
   "id": "0e2c81b0",
   "metadata": {},
   "outputs": [
    {
     "data": {
      "text/plain": [
       "(array([  0,   1, 198, 199], dtype=int64),)"
      ]
     },
     "execution_count": 67,
     "metadata": {},
     "output_type": "execute_result"
    }
   ],
   "source": [
    "x=np.sort(data2[:,2])\n",
    "np.where((data2[:,2]==x[0]) | (data2[:,2]==x[x.size-1]))"
   ]
  },
  {
   "cell_type": "code",
   "execution_count": 70,
   "id": "05a0df4d",
   "metadata": {},
   "outputs": [
    {
     "data": {
      "text/plain": [
       "array([ 1., 22.])"
      ]
     },
     "execution_count": 70,
     "metadata": {},
     "output_type": "execute_result"
    }
   ],
   "source": [
    "data[0]"
   ]
  },
  {
   "cell_type": "markdown",
   "id": "2357d354",
   "metadata": {},
   "source": [
    "# task 4"
   ]
  },
  {
   "cell_type": "code",
   "execution_count": 65,
   "id": "1f903ec1",
   "metadata": {},
   "outputs": [
    {
     "data": {
      "text/plain": [
       "26"
      ]
     },
     "execution_count": 65,
     "metadata": {},
     "output_type": "execute_result"
    }
   ],
   "source": [
    "data2[(data2[:,3]>75) & (data2[:,2]>35) & (data2[:,1]<45)].shape[0]"
   ]
  },
  {
   "cell_type": "markdown",
   "id": "cbc99f5b",
   "metadata": {},
   "source": [
    "# task 5"
   ]
  },
  {
   "cell_type": "code",
   "execution_count": null,
   "id": "49eda4f9",
   "metadata": {},
   "outputs": [],
   "source": []
  },
  {
   "cell_type": "code",
   "execution_count": 19,
   "id": "7cb95856",
   "metadata": {},
   "outputs": [
    {
     "ename": "TypeError",
     "evalue": "randint() got an unexpected keyword argument 'random_state'",
     "output_type": "error",
     "traceback": [
      "\u001b[1;31m---------------------------------------------------------------------------\u001b[0m",
      "\u001b[1;31mTypeError\u001b[0m                                 Traceback (most recent call last)",
      "Cell \u001b[1;32mIn[19], line 1\u001b[0m\n\u001b[1;32m----> 1\u001b[0m n\u001b[38;5;241m=\u001b[39m\u001b[43mnp\u001b[49m\u001b[38;5;241;43m.\u001b[39;49m\u001b[43mrandom\u001b[49m\u001b[38;5;241;43m.\u001b[39;49m\u001b[43mrandint\u001b[49m\u001b[43m(\u001b[49m\u001b[38;5;241;43m10\u001b[39;49m\u001b[43m,\u001b[49m\u001b[38;5;241;43m50\u001b[39;49m\u001b[43m,\u001b[49m\u001b[38;5;241;43m22\u001b[39;49m\u001b[43m,\u001b[49m\u001b[43mrandom_state\u001b[49m\u001b[38;5;241;43m=\u001b[39;49m\u001b[38;5;241;43m1\u001b[39;49m\u001b[43m)\u001b[49m\n\u001b[0;32m      2\u001b[0m n\n",
      "File \u001b[1;32mmtrand.pyx:646\u001b[0m, in \u001b[0;36mnumpy.random.mtrand.RandomState.randint\u001b[1;34m()\u001b[0m\n",
      "\u001b[1;31mTypeError\u001b[0m: randint() got an unexpected keyword argument 'random_state'"
     ]
    }
   ],
   "source": [
    "n=np.random.randint(10,50,22)\n",
    "n"
   ]
  },
  {
   "cell_type": "code",
   "execution_count": 23,
   "id": "77bb0d38",
   "metadata": {},
   "outputs": [
    {
     "ename": "AxisError",
     "evalue": "axis 1 is out of bounds for array of dimension 1",
     "output_type": "error",
     "traceback": [
      "\u001b[1;31m---------------------------------------------------------------------------\u001b[0m",
      "\u001b[1;31mAxisError\u001b[0m                                 Traceback (most recent call last)",
      "Cell \u001b[1;32mIn[23], line 2\u001b[0m\n\u001b[0;32m      1\u001b[0m c\u001b[38;5;241m=\u001b[39mnp\u001b[38;5;241m.\u001b[39mrandom\u001b[38;5;241m.\u001b[39mrandint(\u001b[38;5;241m10\u001b[39m,\u001b[38;5;241m51\u001b[39m,data\u001b[38;5;241m.\u001b[39mshape[\u001b[38;5;241m0\u001b[39m])\u001b[38;5;241m.\u001b[39mreshape(\u001b[38;5;241m50\u001b[39m,\u001b[38;5;241m1\u001b[39m)\n\u001b[1;32m----> 2\u001b[0m b\u001b[38;5;241m=\u001b[39m\u001b[43mnp\u001b[49m\u001b[38;5;241;43m.\u001b[39;49m\u001b[43mconcatenate\u001b[49m\u001b[43m(\u001b[49m\u001b[43m(\u001b[49m\u001b[43mdata\u001b[49m\u001b[43m)\u001b[49m\u001b[43m,\u001b[49m\u001b[43maxis\u001b[49m\u001b[38;5;241;43m=\u001b[39;49m\u001b[38;5;241;43m1\u001b[39;49m\u001b[43m)\u001b[49m\n",
      "File \u001b[1;32m<__array_function__ internals>:180\u001b[0m, in \u001b[0;36mconcatenate\u001b[1;34m(*args, **kwargs)\u001b[0m\n",
      "\u001b[1;31mAxisError\u001b[0m: axis 1 is out of bounds for array of dimension 1"
     ]
    }
   ],
   "source": [
    "c=np.random.randint(10,51,data.shape[0]).reshape(50,1)\n",
    "b=np.concatenate((data),axis=1)\n"
   ]
  },
  {
   "cell_type": "code",
   "execution_count": 36,
   "id": "084ee3a9",
   "metadata": {},
   "outputs": [
    {
     "data": {
      "text/plain": [
       "array([[ 1., 22., 24.],\n",
       "       [ 2., 27., 41.],\n",
       "       [ 3., 31., 11.],\n",
       "       [ 4., 29., 21.],\n",
       "       [ 5., 27., 43.],\n",
       "       [ 6., 26., 14.],\n",
       "       [ 7., 27., 48.],\n",
       "       [ 8., 23., 12.],\n",
       "       [ 9., 27., 31.],\n",
       "       [10., 32., 13.],\n",
       "       [11., 28., 19.],\n",
       "       [12., 27., 49.],\n",
       "       [13., 22., 43.],\n",
       "       [14., 27., 10.],\n",
       "       [15., 35., 22.],\n",
       "       [16., 33., 27.],\n",
       "       [17., 28., 33.],\n",
       "       [18., 22., 30.],\n",
       "       [19., 25., 35.],\n",
       "       [20., 27., 18.],\n",
       "       [21., 37., 20.],\n",
       "       [22., 27., 24.],\n",
       "       [23., 24., 40.],\n",
       "       [24., 27., 37.],\n",
       "       [25., 28., 10.],\n",
       "       [26., 26., 10.],\n",
       "       [27., 27., 10.],\n",
       "       [28., 27., 22.],\n",
       "       [29., 29., 43.],\n",
       "       [30., 49., 33.],\n",
       "       [31., 26., 39.],\n",
       "       [32., 32., 19.],\n",
       "       [33., 26., 46.],\n",
       "       [34., 24., 11.],\n",
       "       [35., 24., 16.],\n",
       "       [36., 23., 50.],\n",
       "       [37., 28., 12.],\n",
       "       [38., 28., 20.],\n",
       "       [39., 22., 37.],\n",
       "       [40., 26., 48.],\n",
       "       [41., 32., 20.],\n",
       "       [42., 35., 39.],\n",
       "       [43., 33., 18.],\n",
       "       [44., 31., 14.],\n",
       "       [45., 30., 47.],\n",
       "       [46., 36., 24.],\n",
       "       [47., 22., 12.],\n",
       "       [48., 23., 40.],\n",
       "       [49., 32., 14.],\n",
       "       [50., 34., 20.]])"
      ]
     },
     "execution_count": 36,
     "metadata": {},
     "output_type": "execute_result"
    }
   ],
   "source": [
    "f=np.random.randint(10,51,data.shape[0]).reshape(50,1)\n",
    "n=np.concatenate((data,dis),axis=1)\n",
    "n"
   ]
  },
  {
   "cell_type": "code",
   "execution_count": null,
   "id": "3ed9780f",
   "metadata": {},
   "outputs": [],
   "source": []
  },
  {
   "cell_type": "code",
   "execution_count": null,
   "id": "ebcd4620",
   "metadata": {},
   "outputs": [],
   "source": []
  },
  {
   "cell_type": "code",
   "execution_count": 43,
   "id": "5179035e",
   "metadata": {
    "collapsed": true
   },
   "outputs": [
    {
     "ename": "ValueError",
     "evalue": "all the input arrays must have same number of dimensions, but the array at index 0 has 2 dimension(s) and the array at index 1 has 1 dimension(s)",
     "output_type": "error",
     "traceback": [
      "\u001b[1;31m---------------------------------------------------------------------------\u001b[0m",
      "\u001b[1;31mValueError\u001b[0m                                Traceback (most recent call last)",
      "Cell \u001b[1;32mIn[43], line 2\u001b[0m\n\u001b[0;32m      1\u001b[0m b\u001b[38;5;241m=\u001b[39mnp\u001b[38;5;241m.\u001b[39mrandom\u001b[38;5;241m.\u001b[39mrandint(\u001b[38;5;241m10\u001b[39m,\u001b[38;5;241m51\u001b[39m,\u001b[38;5;241m20\u001b[39m)\n\u001b[1;32m----> 2\u001b[0m m\u001b[38;5;241m=\u001b[39m\u001b[43mnp\u001b[49m\u001b[38;5;241;43m.\u001b[39;49m\u001b[43mconcatenate\u001b[49m\u001b[43m(\u001b[49m\u001b[43m(\u001b[49m\u001b[43mdata\u001b[49m\u001b[43m,\u001b[49m\u001b[43mb\u001b[49m\u001b[43m)\u001b[49m\u001b[43m,\u001b[49m\u001b[43maxis\u001b[49m\u001b[38;5;241;43m=\u001b[39;49m\u001b[38;5;241;43m1\u001b[39;49m\u001b[43m)\u001b[49m\n",
      "File \u001b[1;32m<__array_function__ internals>:180\u001b[0m, in \u001b[0;36mconcatenate\u001b[1;34m(*args, **kwargs)\u001b[0m\n",
      "\u001b[1;31mValueError\u001b[0m: all the input arrays must have same number of dimensions, but the array at index 0 has 2 dimension(s) and the array at index 1 has 1 dimension(s)"
     ]
    }
   ],
   "source": [
    "b=np.random.randint(10,51,20)\n",
    "m=np.concatenate((data,b),axis=1)"
   ]
  },
  {
   "cell_type": "code",
   "execution_count": null,
   "id": "bbd59da0",
   "metadata": {},
   "outputs": [],
   "source": [
    "n=np.random.randint(10,)"
   ]
  },
  {
   "cell_type": "code",
   "execution_count": null,
   "id": "5e12db3a",
   "metadata": {},
   "outputs": [],
   "source": [
    "dis=np.random.randint(10,51,data.shape[0]).reshape(50,1)"
   ]
  },
  {
   "cell_type": "code",
   "execution_count": 34,
   "id": "6603ab59",
   "metadata": {},
   "outputs": [
    {
     "data": {
      "text/plain": [
       "array([17, 32, 24,  8, 30, 20, 12,  7, 18, 11,  1, 14, 24,  8,  6,  3, 23,\n",
       "        7, 19, 32, 33, 13, 29, 33, 11, 16, 30, 15, 10, 33,  3, 29,  2, 20,\n",
       "       14, 14,  1,  7,  6, 19,  6,  5,  2])"
      ]
     },
     "execution_count": 34,
     "metadata": {},
     "output_type": "execute_result"
    }
   ],
   "source": [
    "b=np.random.randint(1,34,43)\n",
    "b"
   ]
  },
  {
   "cell_type": "code",
   "execution_count": 43,
   "id": "495f4109",
   "metadata": {},
   "outputs": [
    {
     "data": {
      "text/plain": [
       "array([6, 5, 5, 4, 4, 5, 4, 2, 5, 4, 4, 5, 6, 6, 2, 6, 6, 3, 6, 5, 2, 3,\n",
       "       6, 5, 4, 3, 5, 6, 3, 5, 5, 6, 6, 4, 2, 4, 3, 3, 2, 2, 4, 2, 2, 3,\n",
       "       3, 5, 6, 4, 3, 4, 4, 5, 2, 4, 5, 3, 5, 2, 4, 3, 3, 6, 6, 2, 2, 3,\n",
       "       5, 6, 2, 3, 6, 3, 2, 3, 4, 3, 2, 3, 2, 2, 3, 2, 6, 2, 5, 3, 2, 5,\n",
       "       2, 4, 6, 2, 2, 3, 3, 5, 4, 3, 2, 6])"
      ]
     },
     "execution_count": 43,
     "metadata": {},
     "output_type": "execute_result"
    }
   ],
   "source": [
    "np.random.randint(2,7,100)"
   ]
  },
  {
   "cell_type": "code",
   "execution_count": 46,
   "id": "67df0d04",
   "metadata": {},
   "outputs": [
    {
     "data": {
      "text/plain": [
       "array([49, 68, 62, 22,  5, 33, 41, 42, 30, 48, 66, 47, 63, 82, 35,  5, 90,\n",
       "       80, 43, 79])"
      ]
     },
     "execution_count": 46,
     "metadata": {},
     "output_type": "execute_result"
    }
   ],
   "source": [
    "np.random.randint(2,100,20)"
   ]
  },
  {
   "cell_type": "code",
   "execution_count": 6,
   "id": "29943eaf",
   "metadata": {
    "scrolled": true
   },
   "outputs": [
    {
     "data": {
      "text/plain": [
       "array([29,  7, 30, 19, 22, 31,  7,  6, 26, 15, 16, 14,  4, 33,  3, 25, 32,\n",
       "       25,  5, 11, 19, 28,  1, 15, 29, 24, 16, 21, 27, 11,  8, 11, 16,  8,\n",
       "       16, 12,  8,  7, 19,  1, 32,  4, 12])"
      ]
     },
     "execution_count": 6,
     "metadata": {},
     "output_type": "execute_result"
    }
   ],
   "source": [
    "b=np.random.randint(1,34,43)\n",
    "b"
   ]
  },
  {
   "cell_type": "code",
   "execution_count": null,
   "id": "39c1b611",
   "metadata": {},
   "outputs": [],
   "source": []
  },
  {
   "cell_type": "code",
   "execution_count": 16,
   "id": "71202696",
   "metadata": {},
   "outputs": [
    {
     "data": {
      "text/plain": [
       "14"
      ]
     },
     "execution_count": 16,
     "metadata": {},
     "output_type": "execute_result"
    }
   ],
   "source": [
    "b=np.random.randint(10,23,data1.shape[0]).reshape(50,1)\n",
    "\n"
   ]
  },
  {
   "cell_type": "code",
   "execution_count": 35,
   "id": "0c537605",
   "metadata": {},
   "outputs": [
    {
     "data": {
      "text/plain": [
       "array([[ 1., 22., 24.],\n",
       "       [ 2., 27., 41.],\n",
       "       [ 3., 31., 11.],\n",
       "       [ 4., 29., 21.],\n",
       "       [ 5., 27., 43.],\n",
       "       [ 6., 26., 14.],\n",
       "       [ 7., 27., 48.],\n",
       "       [ 8., 23., 12.],\n",
       "       [ 9., 27., 31.],\n",
       "       [10., 32., 13.],\n",
       "       [11., 28., 19.],\n",
       "       [12., 27., 49.],\n",
       "       [13., 22., 43.],\n",
       "       [14., 27., 10.],\n",
       "       [15., 35., 22.],\n",
       "       [16., 33., 27.],\n",
       "       [17., 28., 33.],\n",
       "       [18., 22., 30.],\n",
       "       [19., 25., 35.],\n",
       "       [20., 27., 18.],\n",
       "       [21., 37., 20.],\n",
       "       [22., 27., 24.],\n",
       "       [23., 24., 40.],\n",
       "       [24., 27., 37.],\n",
       "       [25., 28., 10.],\n",
       "       [26., 26., 10.],\n",
       "       [27., 27., 10.],\n",
       "       [28., 27., 22.],\n",
       "       [29., 29., 43.],\n",
       "       [30., 49., 33.],\n",
       "       [31., 26., 39.],\n",
       "       [32., 32., 19.],\n",
       "       [33., 26., 46.],\n",
       "       [34., 24., 11.],\n",
       "       [35., 24., 16.],\n",
       "       [36., 23., 50.],\n",
       "       [37., 28., 12.],\n",
       "       [38., 28., 20.],\n",
       "       [39., 22., 37.],\n",
       "       [40., 26., 48.],\n",
       "       [41., 32., 20.],\n",
       "       [42., 35., 39.],\n",
       "       [43., 33., 18.],\n",
       "       [44., 31., 14.],\n",
       "       [45., 30., 47.],\n",
       "       [46., 36., 24.],\n",
       "       [47., 22., 12.],\n",
       "       [48., 23., 40.],\n",
       "       [49., 32., 14.],\n",
       "       [50., 34., 20.]])"
      ]
     },
     "execution_count": 35,
     "metadata": {},
     "output_type": "execute_result"
    }
   ],
   "source": [
    "dis=np.random.randint(10,51,data.shape[0]).reshape(50,1)\n",
    "g=np.concatenate((data,dis),axis=1)\n",
    "g"
   ]
  },
  {
   "cell_type": "code",
   "execution_count": 11,
   "id": "45f8a02b",
   "metadata": {},
   "outputs": [
    {
     "name": "stdout",
     "output_type": "stream",
     "text": [
      "[[1, 3, 4], [3, 4, 6], [373, 36, 33]]\n"
     ]
    }
   ],
   "source": [
    "my=[[1,3,4],[3,4,6],[373,36,33]]\n",
    "print(my)"
   ]
  },
  {
   "cell_type": "code",
   "execution_count": 21,
   "id": "d8743ff5",
   "metadata": {},
   "outputs": [
    {
     "data": {
      "text/plain": [
       "[[12, 23, 455, 6, 7, 88, 9, 7],\n",
       " [122, 567, 321, 4, 8, 32, 1],\n",
       " [123, 54, 3, 2, 3, 56]]"
      ]
     },
     "execution_count": 21,
     "metadata": {},
     "output_type": "execute_result"
    }
   ],
   "source": [
    "my=[[12,23,455,6,7,88,9,7],[122,567,321,4,8,32,1],[123,54,3,2,3,56]]\n",
    "my"
   ]
  },
  {
   "cell_type": "code",
   "execution_count": null,
   "id": "45def84e",
   "metadata": {},
   "outputs": [],
   "source": []
  },
  {
   "cell_type": "code",
   "execution_count": 15,
   "id": "bde8d77b",
   "metadata": {},
   "outputs": [
    {
     "data": {
      "text/plain": [
       "array([ 1,  3,  5,  7,  9, 11])"
      ]
     },
     "execution_count": 15,
     "metadata": {},
     "output_type": "execute_result"
    }
   ],
   "source": [
    "np.arange(1,12,2)"
   ]
  },
  {
   "cell_type": "code",
   "execution_count": 17,
   "id": "49d7d95d",
   "metadata": {},
   "outputs": [],
   "source": [
    "t=np.random.randint(1,12,45)"
   ]
  },
  {
   "cell_type": "code",
   "execution_count": 25,
   "id": "9c667434",
   "metadata": {},
   "outputs": [
    {
     "ename": "AttributeError",
     "evalue": "'Series' object has no attribute 'columns'",
     "output_type": "error",
     "traceback": [
      "\u001b[1;31m---------------------------------------------------------------------------\u001b[0m",
      "\u001b[1;31mAttributeError\u001b[0m                            Traceback (most recent call last)",
      "Cell \u001b[1;32mIn[25], line 2\u001b[0m\n\u001b[0;32m      1\u001b[0m h\u001b[38;5;241m=\u001b[39mpd\u001b[38;5;241m.\u001b[39mSeries(t)\n\u001b[1;32m----> 2\u001b[0m m\u001b[38;5;241m=\u001b[39m\u001b[43mh\u001b[49m\u001b[38;5;241;43m.\u001b[39;49m\u001b[43mcolumns\u001b[49m[\u001b[38;5;124m'\u001b[39m\u001b[38;5;124mshahid\u001b[39m\u001b[38;5;124m'\u001b[39m][\u001b[38;5;241m0\u001b[39m]\n",
      "File \u001b[1;32m~\\anaconda3\\New folder\\lib\\site-packages\\pandas\\core\\generic.py:5902\u001b[0m, in \u001b[0;36mNDFrame.__getattr__\u001b[1;34m(self, name)\u001b[0m\n\u001b[0;32m   5895\u001b[0m \u001b[38;5;28;01mif\u001b[39;00m (\n\u001b[0;32m   5896\u001b[0m     name \u001b[38;5;129;01mnot\u001b[39;00m \u001b[38;5;129;01min\u001b[39;00m \u001b[38;5;28mself\u001b[39m\u001b[38;5;241m.\u001b[39m_internal_names_set\n\u001b[0;32m   5897\u001b[0m     \u001b[38;5;129;01mand\u001b[39;00m name \u001b[38;5;129;01mnot\u001b[39;00m \u001b[38;5;129;01min\u001b[39;00m \u001b[38;5;28mself\u001b[39m\u001b[38;5;241m.\u001b[39m_metadata\n\u001b[0;32m   5898\u001b[0m     \u001b[38;5;129;01mand\u001b[39;00m name \u001b[38;5;129;01mnot\u001b[39;00m \u001b[38;5;129;01min\u001b[39;00m \u001b[38;5;28mself\u001b[39m\u001b[38;5;241m.\u001b[39m_accessors\n\u001b[0;32m   5899\u001b[0m     \u001b[38;5;129;01mand\u001b[39;00m \u001b[38;5;28mself\u001b[39m\u001b[38;5;241m.\u001b[39m_info_axis\u001b[38;5;241m.\u001b[39m_can_hold_identifiers_and_holds_name(name)\n\u001b[0;32m   5900\u001b[0m ):\n\u001b[0;32m   5901\u001b[0m     \u001b[38;5;28;01mreturn\u001b[39;00m \u001b[38;5;28mself\u001b[39m[name]\n\u001b[1;32m-> 5902\u001b[0m \u001b[38;5;28;01mreturn\u001b[39;00m \u001b[38;5;28;43mobject\u001b[39;49m\u001b[38;5;241;43m.\u001b[39;49m\u001b[38;5;21;43m__getattribute__\u001b[39;49m\u001b[43m(\u001b[49m\u001b[38;5;28;43mself\u001b[39;49m\u001b[43m,\u001b[49m\u001b[43m \u001b[49m\u001b[43mname\u001b[49m\u001b[43m)\u001b[49m\n",
      "\u001b[1;31mAttributeError\u001b[0m: 'Series' object has no attribute 'columns'"
     ]
    }
   ],
   "source": [
    "h=pd.Series(t)\n",
    "m=h.columns['shahid'][0]"
   ]
  },
  {
   "cell_type": "code",
   "execution_count": 4,
   "id": "4a37afda",
   "metadata": {},
   "outputs": [
    {
     "name": "stdout",
     "output_type": "stream",
     "text": [
      "[[1, 2, 3], [4, 5, 6]]\n"
     ]
    }
   ],
   "source": [
    "myArray = [[1, 2, 3], [4, 5, 6]]\n",
    "print(myArray)"
   ]
  },
  {
   "cell_type": "code",
   "execution_count": 9,
   "id": "d89b42af",
   "metadata": {},
   "outputs": [
    {
     "data": {
      "text/plain": [
       "[45, 87, 98]"
      ]
     },
     "execution_count": 9,
     "metadata": {},
     "output_type": "execute_result"
    }
   ],
   "source": [
    "myArray = [[1, 2, 3], [4, 5, 6],[45,87,98]]\n",
    "myArray[2]"
   ]
  },
  {
   "cell_type": "markdown",
   "id": "5a6df069",
   "metadata": {},
   "source": [
    "# task 6"
   ]
  },
  {
   "cell_type": "code",
   "execution_count": 62,
   "id": "fa94fbd4",
   "metadata": {},
   "outputs": [
    {
     "data": {
      "text/plain": [
       "array([[  1.,  19.,  15.,  39.,  48.],\n",
       "       [  4.,  23.,  16.,  77.,  47.],\n",
       "       [ 20.,  35.,  23.,  98.,  49.],\n",
       "       [ 44.,  31.,  39.,  61.,  49.],\n",
       "       [ 46.,  24.,  39.,  65.,  48.],\n",
       "       [ 48.,  27.,  40.,  47.,  48.],\n",
       "       [ 51.,  49.,  42.,  52.,  46.],\n",
       "       [ 64.,  54.,  47.,  59.,  47.],\n",
       "       [ 67.,  43.,  48.,  50.,  46.],\n",
       "       [ 74.,  60.,  50.,  56.,  46.],\n",
       "       [ 82.,  38.,  54.,  55.,  46.],\n",
       "       [106.,  21.,  62.,  42.,  48.],\n",
       "       [108.,  54.,  63.,  46.,  48.],\n",
       "       [119.,  51.,  67.,  43.,  46.],\n",
       "       [125.,  23.,  70.,  29.,  50.],\n",
       "       [127.,  43.,  71.,  35.,  46.],\n",
       "       [128.,  40.,  71.,  95.,  47.],\n",
       "       [137.,  44.,  73.,   7.,  49.],\n",
       "       [143.,  28.,  76.,  40.,  49.],\n",
       "       [147.,  48.,  77.,  36.,  49.],\n",
       "       [158.,  30.,  78.,  78.,  50.],\n",
       "       [165.,  50.,  85.,  26.,  48.],\n",
       "       [170.,  32.,  87.,  63.,  46.],\n",
       "       [174.,  36.,  87.,  92.,  46.],\n",
       "       [180.,  35.,  93.,  90.,  49.],\n",
       "       [191.,  34., 103.,  23.,  47.],\n",
       "       [194.,  38., 113.,  91.,  49.]])"
      ]
     },
     "execution_count": 62,
     "metadata": {},
     "output_type": "execute_result"
    }
   ],
   "source": [
    "dis=np.random.randint(10,51,data2.shape[0]).reshape(200,1)\n",
    "g=np.concatenate((data2,dis),axis=1)\n",
    "g[g[:,4]>45]"
   ]
  },
  {
   "cell_type": "code",
   "execution_count": null,
   "id": "28c96b2c",
   "metadata": {},
   "outputs": [],
   "source": []
  },
  {
   "cell_type": "code",
   "execution_count": null,
   "id": "e154f99f",
   "metadata": {},
   "outputs": [],
   "source": []
  }
 ],
 "metadata": {
  "kernelspec": {
   "display_name": "Python 3 (ipykernel)",
   "language": "python",
   "name": "python3"
  },
  "language_info": {
   "codemirror_mode": {
    "name": "ipython",
    "version": 3
   },
   "file_extension": ".py",
   "mimetype": "text/x-python",
   "name": "python",
   "nbconvert_exporter": "python",
   "pygments_lexer": "ipython3",
   "version": "3.10.9"
  }
 },
 "nbformat": 4,
 "nbformat_minor": 5
}

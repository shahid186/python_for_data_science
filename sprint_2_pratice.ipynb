{
 "cells": [
  {
   "cell_type": "code",
   "execution_count": 1,
   "id": "03f1edf2",
   "metadata": {},
   "outputs": [],
   "source": [
    "import pandas as pd\n",
    "import numpy as np\n"
   ]
  },
  {
   "cell_type": "code",
   "execution_count": 5,
   "id": "35b7ddce",
   "metadata": {},
   "outputs": [],
   "source": [
    "d=pd.Series(np.arange(1,10),index=(np.arange(1,10)))"
   ]
  },
  {
   "cell_type": "code",
   "execution_count": null,
   "id": "3d4afaa3",
   "metadata": {},
   "outputs": [],
   "source": []
  },
  {
   "cell_type": "code",
   "execution_count": null,
   "id": "3c03d490",
   "metadata": {},
   "outputs": [],
   "source": []
  },
  {
   "cell_type": "code",
   "execution_count": null,
   "id": "24465548",
   "metadata": {},
   "outputs": [],
   "source": []
  },
  {
   "cell_type": "code",
   "execution_count": 10,
   "id": "49e335de",
   "metadata": {},
   "outputs": [
    {
     "data": {
      "text/plain": [
       "1    1\n",
       "2    2\n",
       "3    3\n",
       "4    4\n",
       "5    5\n",
       "6    6\n",
       "7    7\n",
       "8    8\n",
       "9    9\n",
       "dtype: int32"
      ]
     },
     "execution_count": 10,
     "metadata": {},
     "output_type": "execute_result"
    }
   ],
   "source": [
    "pd.Series(np.arange(1,10),index=(np.arange(1,10)))"
   ]
  },
  {
   "cell_type": "code",
   "execution_count": 8,
   "id": "54b4a901",
   "metadata": {},
   "outputs": [],
   "source": [
    "data=pd.Series(np.arange(1001,1030),index=(np.arange(1,30)))"
   ]
  },
  {
   "cell_type": "code",
   "execution_count": 7,
   "id": "35fadc40",
   "metadata": {},
   "outputs": [
    {
     "data": {
      "text/plain": [
       "1     1001\n",
       "2     1002\n",
       "3     1003\n",
       "4     1004\n",
       "5     1005\n",
       "6     1006\n",
       "7     1007\n",
       "8     1008\n",
       "9     1009\n",
       "10    1010\n",
       "11    1011\n",
       "12    1012\n",
       "13    1013\n",
       "14    1014\n",
       "15    1015\n",
       "16    1016\n",
       "17    1017\n",
       "18    1018\n",
       "19    1019\n",
       "20    1020\n",
       "21    1021\n",
       "22    1022\n",
       "23    1023\n",
       "24    1024\n",
       "25    1025\n",
       "26    1026\n",
       "27    1027\n",
       "28    1028\n",
       "29    1029\n",
       "dtype: int32"
      ]
     },
     "execution_count": 7,
     "metadata": {},
     "output_type": "execute_result"
    }
   ],
   "source": [
    "s=pd.Series(np.arange(1001,1030),index=(np.arange(1,30)))\n",
    "s"
   ]
  },
  {
   "cell_type": "code",
   "execution_count": 4,
   "id": "7f9c9bbe",
   "metadata": {},
   "outputs": [],
   "source": [
    "s=pd.Series(np.arange(1,30),index=(np.arange(1001,1030)))\n"
   ]
  },
  {
   "cell_type": "code",
   "execution_count": 5,
   "id": "b541adf2",
   "metadata": {},
   "outputs": [],
   "source": [
    "v=pd.Series(np.arange(1,30),index=(np.arange(1001,1030)))"
   ]
  },
  {
   "cell_type": "code",
   "execution_count": 15,
   "id": "a4308249",
   "metadata": {},
   "outputs": [
    {
     "data": {
      "text/plain": [
       "1     1001\n",
       "2     1002\n",
       "3     1003\n",
       "4     1004\n",
       "5     1005\n",
       "6     1006\n",
       "7     1007\n",
       "8     1008\n",
       "9     1009\n",
       "10    1010\n",
       "11    1011\n",
       "12    1012\n",
       "13    1013\n",
       "14    1014\n",
       "15    1015\n",
       "16    1016\n",
       "17    1017\n",
       "18    1018\n",
       "19    1019\n",
       "20    1020\n",
       "21    1021\n",
       "22    1022\n",
       "23    1023\n",
       "24    1024\n",
       "25    1025\n",
       "26    1026\n",
       "27    1027\n",
       "28    1028\n",
       "29    1029\n",
       "dtype: int32"
      ]
     },
     "execution_count": 15,
     "metadata": {},
     "output_type": "execute_result"
    }
   ],
   "source": [
    "v=pd.Series(np.arange(1001,1030),index=(np.arange(1,30)))\n",
    "v"
   ]
  },
  {
   "cell_type": "code",
   "execution_count": null,
   "id": "35e68272",
   "metadata": {},
   "outputs": [],
   "source": []
  },
  {
   "cell_type": "markdown",
   "id": "bf000720",
   "metadata": {},
   "source": [
    "# task 1"
   ]
  },
  {
   "cell_type": "code",
   "execution_count": 4,
   "id": "b506139c",
   "metadata": {},
   "outputs": [],
   "source": [
    "m=pd.Series(np.arange(1,30),index=(np.arange(1001,1030)))\n"
   ]
  },
  {
   "cell_type": "code",
   "execution_count": 13,
   "id": "66d1325a",
   "metadata": {},
   "outputs": [],
   "source": [
    "b=pd.Series(np.arange(1001,1030),index=(np.arange(1,30)))\n"
   ]
  },
  {
   "cell_type": "code",
   "execution_count": 9,
   "id": "807f76b8",
   "metadata": {},
   "outputs": [
    {
     "data": {
      "text/plain": [
       "1001     1\n",
       "1002     2\n",
       "1003     3\n",
       "1004     4\n",
       "1005     5\n",
       "1006     6\n",
       "1007     7\n",
       "1008     8\n",
       "1009     9\n",
       "1010    10\n",
       "1011    11\n",
       "1012    12\n",
       "1013    13\n",
       "1014    14\n",
       "1015    15\n",
       "1016    16\n",
       "1017    17\n",
       "1018    18\n",
       "1019    19\n",
       "1020    20\n",
       "1021    21\n",
       "1022    22\n",
       "1023    23\n",
       "1024    24\n",
       "1025    25\n",
       "1026    26\n",
       "1027    27\n",
       "1028    28\n",
       "1029    29\n",
       "dtype: int32"
      ]
     },
     "execution_count": 9,
     "metadata": {},
     "output_type": "execute_result"
    }
   ],
   "source": [
    "n=pd.Series(np.arange(1,30),index=(np.arange(1001,1030)))\n",
    "n"
   ]
  },
  {
   "cell_type": "code",
   "execution_count": 6,
   "id": "fcb5ee2e",
   "metadata": {},
   "outputs": [],
   "source": [
    "m=pd.Series(np.arange(1,30),index=(np.arange(1001,1030)))"
   ]
  },
  {
   "cell_type": "code",
   "execution_count": 7,
   "id": "e6115924",
   "metadata": {},
   "outputs": [
    {
     "data": {
      "text/plain": [
       "array([ 1,  2,  3,  4,  5,  6,  7,  8,  9, 10, 11, 12, 13, 14, 15, 16, 17,\n",
       "       18, 19, 20, 21, 22, 23, 24, 25, 26, 27, 28, 29])"
      ]
     },
     "execution_count": 7,
     "metadata": {},
     "output_type": "execute_result"
    }
   ],
   "source": [
    "np.arange(1,30)"
   ]
  },
  {
   "cell_type": "code",
   "execution_count": 5,
   "id": "c5bf3206",
   "metadata": {},
   "outputs": [],
   "source": [
    "m=pd.Series(np.arange(1,30),index=(np.arange(1001,1030)))"
   ]
  },
  {
   "cell_type": "code",
   "execution_count": null,
   "id": "fa4bf223",
   "metadata": {},
   "outputs": [],
   "source": []
  },
  {
   "cell_type": "code",
   "execution_count": 6,
   "id": "56f794ae",
   "metadata": {},
   "outputs": [],
   "source": [
    "h=pd.Series(np.arange(1,30,),index=(np.arange(1001,1030)))"
   ]
  },
  {
   "cell_type": "code",
   "execution_count": 7,
   "id": "43f89d79",
   "metadata": {},
   "outputs": [
    {
     "data": {
      "text/plain": [
       "1001     1\n",
       "1002     2\n",
       "1003     3\n",
       "1004     4\n",
       "1005     5\n",
       "1006     6\n",
       "1007     7\n",
       "1008     8\n",
       "1009     9\n",
       "1010    10\n",
       "1011    11\n",
       "1012    12\n",
       "1013    13\n",
       "1014    14\n",
       "1015    15\n",
       "1016    16\n",
       "1017    17\n",
       "1018    18\n",
       "1019    19\n",
       "1020    20\n",
       "1021    21\n",
       "1022    22\n",
       "1023    23\n",
       "1024    24\n",
       "1025    25\n",
       "1026    26\n",
       "1027    27\n",
       "1028    28\n",
       "1029    29\n",
       "dtype: int32"
      ]
     },
     "execution_count": 7,
     "metadata": {},
     "output_type": "execute_result"
    }
   ],
   "source": [
    "h"
   ]
  },
  {
   "cell_type": "code",
   "execution_count": 2,
   "id": "a5422f83",
   "metadata": {},
   "outputs": [],
   "source": [
    "i=pd.Series(np.arange(1,41),index=np.arange(1001,1041))"
   ]
  },
  {
   "cell_type": "code",
   "execution_count": 15,
   "id": "08f76b8f",
   "metadata": {},
   "outputs": [
    {
     "ename": "AttributeError",
     "evalue": "module 'pandas' has no attribute 'random'",
     "output_type": "error",
     "traceback": [
      "\u001b[1;31m---------------------------------------------------------------------------\u001b[0m",
      "\u001b[1;31mAttributeError\u001b[0m                            Traceback (most recent call last)",
      "Cell \u001b[1;32mIn[15], line 1\u001b[0m\n\u001b[1;32m----> 1\u001b[0m \u001b[43mpd\u001b[49m\u001b[38;5;241;43m.\u001b[39;49m\u001b[43mrandom\u001b[49m\u001b[38;5;241m.\u001b[39mseed(\u001b[38;5;241m1\u001b[39m)\n",
      "File \u001b[1;32m~\\anaconda3\\New folder\\lib\\site-packages\\pandas\\__init__.py:264\u001b[0m, in \u001b[0;36m__getattr__\u001b[1;34m(name)\u001b[0m\n\u001b[0;32m    260\u001b[0m     \u001b[38;5;28;01mfrom\u001b[39;00m \u001b[38;5;21;01mpandas\u001b[39;00m\u001b[38;5;21;01m.\u001b[39;00m\u001b[38;5;21;01mcore\u001b[39;00m\u001b[38;5;21;01m.\u001b[39;00m\u001b[38;5;21;01marrays\u001b[39;00m\u001b[38;5;21;01m.\u001b[39;00m\u001b[38;5;21;01msparse\u001b[39;00m \u001b[38;5;28;01mimport\u001b[39;00m SparseArray \u001b[38;5;28;01mas\u001b[39;00m _SparseArray\n\u001b[0;32m    262\u001b[0m     \u001b[38;5;28;01mreturn\u001b[39;00m _SparseArray\n\u001b[1;32m--> 264\u001b[0m \u001b[38;5;28;01mraise\u001b[39;00m \u001b[38;5;167;01mAttributeError\u001b[39;00m(\u001b[38;5;124mf\u001b[39m\u001b[38;5;124m\"\u001b[39m\u001b[38;5;124mmodule \u001b[39m\u001b[38;5;124m'\u001b[39m\u001b[38;5;124mpandas\u001b[39m\u001b[38;5;124m'\u001b[39m\u001b[38;5;124m has no attribute \u001b[39m\u001b[38;5;124m'\u001b[39m\u001b[38;5;132;01m{\u001b[39;00mname\u001b[38;5;132;01m}\u001b[39;00m\u001b[38;5;124m'\u001b[39m\u001b[38;5;124m\"\u001b[39m)\n",
      "\u001b[1;31mAttributeError\u001b[0m: module 'pandas' has no attribute 'random'"
     ]
    }
   ],
   "source": [
    "pd.random.seed(1)"
   ]
  },
  {
   "cell_type": "code",
   "execution_count": 4,
   "id": "c9da8584",
   "metadata": {},
   "outputs": [],
   "source": [
    "i=pd.Series(np.arange(1001,1041),index=np.arange(1,41))"
   ]
  },
  {
   "cell_type": "code",
   "execution_count": 5,
   "id": "af410587",
   "metadata": {},
   "outputs": [
    {
     "data": {
      "text/plain": [
       "1     1001\n",
       "2     1002\n",
       "3     1003\n",
       "4     1004\n",
       "5     1005\n",
       "6     1006\n",
       "7     1007\n",
       "8     1008\n",
       "9     1009\n",
       "10    1010\n",
       "11    1011\n",
       "12    1012\n",
       "13    1013\n",
       "14    1014\n",
       "15    1015\n",
       "16    1016\n",
       "17    1017\n",
       "18    1018\n",
       "19    1019\n",
       "20    1020\n",
       "21    1021\n",
       "22    1022\n",
       "23    1023\n",
       "24    1024\n",
       "25    1025\n",
       "26    1026\n",
       "27    1027\n",
       "28    1028\n",
       "29    1029\n",
       "30    1030\n",
       "31    1031\n",
       "32    1032\n",
       "33    1033\n",
       "34    1034\n",
       "35    1035\n",
       "36    1036\n",
       "37    1037\n",
       "38    1038\n",
       "39    1039\n",
       "40    1040\n",
       "dtype: int32"
      ]
     },
     "execution_count": 5,
     "metadata": {},
     "output_type": "execute_result"
    }
   ],
   "source": [
    "i"
   ]
  },
  {
   "cell_type": "code",
   "execution_count": 11,
   "id": "a80c62c0",
   "metadata": {},
   "outputs": [
    {
     "data": {
      "text/plain": [
       "1001     1\n",
       "1002     2\n",
       "1003     3\n",
       "1004     4\n",
       "1005     5\n",
       "1006     6\n",
       "1007     7\n",
       "1008     8\n",
       "1009     9\n",
       "1010    10\n",
       "1011    11\n",
       "1012    12\n",
       "1013    13\n",
       "1014    14\n",
       "1015    15\n",
       "1016    16\n",
       "1017    17\n",
       "1018    18\n",
       "1019    19\n",
       "1020    20\n",
       "1021    21\n",
       "1022    22\n",
       "1023    23\n",
       "1024    24\n",
       "1025    25\n",
       "1026    26\n",
       "1027    27\n",
       "1028    28\n",
       "1029    29\n",
       "1030    30\n",
       "1031    31\n",
       "1032    32\n",
       "1033    33\n",
       "1034    34\n",
       "1035    35\n",
       "1036    36\n",
       "1037    37\n",
       "1038    38\n",
       "1039    39\n",
       "1040    40\n",
       "dtype: int32"
      ]
     },
     "execution_count": 11,
     "metadata": {},
     "output_type": "execute_result"
    }
   ],
   "source": [
    "#assign the student ids as index values from 1001 to 1040\n",
    "i=pd.Series(np.arange(1,41),index=np.arange(1001,1041))\n",
    "i"
   ]
  },
  {
   "cell_type": "markdown",
   "id": "b86ec5b3",
   "metadata": {},
   "source": [
    "# task 2"
   ]
  },
  {
   "cell_type": "code",
   "execution_count": 4,
   "id": "daf49000",
   "metadata": {
    "collapsed": true
   },
   "outputs": [
    {
     "data": {
      "text/plain": [
       "1001    85\n",
       "1002    76\n",
       "1003    65\n",
       "1004    81\n",
       "1005    78\n",
       "1006    76\n",
       "1007    59\n",
       "1008    70\n",
       "1009    61\n",
       "1010    72\n",
       "1011    57\n",
       "1012    84\n",
       "1013    82\n",
       "1014    90\n",
       "1015    71\n",
       "1016    76\n",
       "1017    76\n",
       "1018    69\n",
       "1019    66\n",
       "1020    88\n",
       "1021    88\n",
       "1022    66\n",
       "1023    91\n",
       "1024    87\n",
       "1025    57\n",
       "1026    87\n",
       "1027    84\n",
       "1028    56\n",
       "1029    76\n",
       "1030    63\n",
       "1031    61\n",
       "1032    75\n",
       "1033    53\n",
       "1034    60\n",
       "1035    61\n",
       "1036    63\n",
       "1037    69\n",
       "1038    80\n",
       "1039    82\n",
       "1040    60\n",
       "dtype: int32"
      ]
     },
     "execution_count": 4,
     "metadata": {},
     "output_type": "execute_result"
    }
   ],
   "source": [
    "# random no b/w  50 to 95\n",
    "np.random.seed(20)\n",
    "math_marks=pd.Series(np.random.randint(50,96,40),index=i.index)\n",
    "math_marks"
   ]
  },
  {
   "cell_type": "code",
   "execution_count": 16,
   "id": "c330e0d8",
   "metadata": {},
   "outputs": [],
   "source": [
    "np.random.seed(1)"
   ]
  },
  {
   "cell_type": "code",
   "execution_count": 14,
   "id": "7fbef9a7",
   "metadata": {},
   "outputs": [
    {
     "data": {
      "text/plain": [
       "1001    85\n",
       "1002    76\n",
       "1003    65\n",
       "1004    81\n",
       "1005    78\n",
       "1006    76\n",
       "1007    59\n",
       "1008    70\n",
       "1009    61\n",
       "1010    72\n",
       "1011    57\n",
       "1012    84\n",
       "1013    82\n",
       "1014    90\n",
       "1015    71\n",
       "1016    76\n",
       "1017    76\n",
       "1018    69\n",
       "1019    66\n",
       "1020    88\n",
       "1021    88\n",
       "1022    66\n",
       "1023    91\n",
       "1024    87\n",
       "1025    57\n",
       "1026    87\n",
       "1027    84\n",
       "1028    56\n",
       "1029    76\n",
       "1030    63\n",
       "1031    61\n",
       "1032    75\n",
       "1033    53\n",
       "1034    60\n",
       "1035    61\n",
       "1036    63\n",
       "1037    69\n",
       "1038    80\n",
       "1039    82\n",
       "1040    60\n",
       "dtype: int32"
      ]
     },
     "execution_count": 14,
     "metadata": {},
     "output_type": "execute_result"
    }
   ],
   "source": [
    "np.random.seed(20)\n",
    "n=pd.Series(np.random.randint(50,96,40),index=i.index)\n",
    "n"
   ]
  },
  {
   "cell_type": "code",
   "execution_count": 12,
   "id": "011f801a",
   "metadata": {},
   "outputs": [
    {
     "data": {
      "text/plain": [
       "1001    85\n",
       "1002    76\n",
       "1003    65\n",
       "1004    81\n",
       "1005    78\n",
       "1006    76\n",
       "1007    59\n",
       "1008    70\n",
       "1009    61\n",
       "1010    72\n",
       "1011    57\n",
       "1012    84\n",
       "1013    82\n",
       "1014    90\n",
       "1015    71\n",
       "1016    76\n",
       "1017    76\n",
       "1018    69\n",
       "1019    66\n",
       "1020    88\n",
       "1021    88\n",
       "1022    66\n",
       "1023    91\n",
       "1024    87\n",
       "1025    57\n",
       "1026    87\n",
       "1027    84\n",
       "1028    56\n",
       "1029    76\n",
       "1030    63\n",
       "1031    61\n",
       "1032    75\n",
       "1033    53\n",
       "1034    60\n",
       "1035    61\n",
       "1036    63\n",
       "1037    69\n",
       "1038    80\n",
       "1039    82\n",
       "1040    60\n",
       "dtype: int32"
      ]
     },
     "execution_count": 12,
     "metadata": {},
     "output_type": "execute_result"
    }
   ],
   "source": [
    "np.random.seed(20)\n",
    "math=pd.Series(np.random.randint(50,96,40),index=i.index)\n",
    "\n",
    "math\n",
    "\n"
   ]
  },
  {
   "cell_type": "code",
   "execution_count": 13,
   "id": "20f0377b",
   "metadata": {},
   "outputs": [
    {
     "data": {
      "text/plain": [
       "1025     2\n",
       "1006     2\n",
       "1029     3\n",
       "1032     5\n",
       "1012     5\n",
       "1033     5\n",
       "1040     6\n",
       "1009     7\n",
       "1018     7\n",
       "1013     7\n",
       "1038     7\n",
       "1035     9\n",
       "1036     9\n",
       "1023    10\n",
       "1007    11\n",
       "1028    13\n",
       "1016    13\n",
       "1026    14\n",
       "1037    15\n",
       "1020    15\n",
       "1024    16\n",
       "1005    17\n",
       "1002    18\n",
       "1001    19\n",
       "1008    19\n",
       "1034    20\n",
       "1017    21\n",
       "1022    22\n",
       "1003    23\n",
       "1031    23\n",
       "1030    23\n",
       "1011    24\n",
       "1010    25\n",
       "1014    25\n",
       "1021    25\n",
       "1039    26\n",
       "1015    30\n",
       "1019    30\n",
       "1027    33\n",
       "1004    33\n",
       "dtype: int32"
      ]
     },
     "execution_count": 13,
     "metadata": {},
     "output_type": "execute_result"
    }
   ],
   "source": [
    "n=pd.Series(np.random.randint(1,34,40),index=i.index)\n",
    "n.sort_values()"
   ]
  },
  {
   "cell_type": "markdown",
   "id": "dc575442",
   "metadata": {},
   "source": [
    "# task 3"
   ]
  },
  {
   "cell_type": "code",
   "execution_count": 5,
   "id": "d8322494",
   "metadata": {},
   "outputs": [
    {
     "data": {
      "text/plain": [
       "1001    83\n",
       "1002    46\n",
       "1003    51\n",
       "1004    58\n",
       "1005    43\n",
       "1006    53\n",
       "1007    57\n",
       "1008    83\n",
       "1009    56\n",
       "1010    58\n",
       "1011    55\n",
       "1012    66\n",
       "1013    47\n",
       "1014    51\n",
       "1015    94\n",
       "1016    69\n",
       "1017    85\n",
       "1018    46\n",
       "1019    54\n",
       "1020    64\n",
       "1021    58\n",
       "1022    69\n",
       "1023    73\n",
       "1024    54\n",
       "1025    82\n",
       "1026    70\n",
       "1027    43\n",
       "1028    58\n",
       "1029    46\n",
       "1030    81\n",
       "1031    92\n",
       "1032    62\n",
       "1033    54\n",
       "1034    44\n",
       "1035    67\n",
       "1036    51\n",
       "1037    48\n",
       "1038    46\n",
       "1039    66\n",
       "1040    55\n",
       "dtype: int32"
      ]
     },
     "execution_count": 5,
     "metadata": {},
     "output_type": "execute_result"
    }
   ],
   "source": [
    "#generating no b/w 40 to 95\n",
    "phy_marks=pd.Series(np.random.randint(40,95,40),index=i.index)\n",
    "phy_marks"
   ]
  },
  {
   "cell_type": "markdown",
   "id": "52d621fb",
   "metadata": {},
   "source": [
    "# task 4"
   ]
  },
  {
   "cell_type": "code",
   "execution_count": 6,
   "id": "de7056c9",
   "metadata": {},
   "outputs": [
    {
     "data": {
      "text/plain": [
       "1001    168\n",
       "1008    153\n",
       "1012    150\n",
       "1015    165\n",
       "1017    161\n",
       "1020    152\n",
       "1023    164\n",
       "1026    157\n",
       "1031    153\n",
       "dtype: int32"
      ]
     },
     "execution_count": 6,
     "metadata": {},
     "output_type": "execute_result"
    }
   ],
   "source": [
    "#cut of marks for eligible is 150\n",
    "total_sum=phy_marks+math_marks\n",
    "s=total_sum[total_sum>=150]\n",
    "s"
   ]
  },
  {
   "cell_type": "code",
   "execution_count": 6,
   "id": "dfb4388b",
   "metadata": {},
   "outputs": [
    {
     "data": {
      "text/plain": [
       "9"
      ]
     },
     "execution_count": 6,
     "metadata": {},
     "output_type": "execute_result"
    }
   ],
   "source": [
    "np.size(s)"
   ]
  },
  {
   "cell_type": "markdown",
   "id": "9b026abb",
   "metadata": {},
   "source": [
    "# task 5"
   ]
  },
  {
   "cell_type": "code",
   "execution_count": 8,
   "id": "084b035a",
   "metadata": {},
   "outputs": [],
   "source": [
    "#generate random no for math score range 50 - 100 and 30 - 100\n",
    "math2=pd.Series(np.random.randint(50,100,9),index=s.index)\n",
    "phy2=pd.Series(np.random.randint(30,100,9),index=s.index)\n",
    "         \n"
   ]
  },
  {
   "cell_type": "code",
   "execution_count": 9,
   "id": "c4e04403",
   "metadata": {},
   "outputs": [
    {
     "data": {
      "text/plain": [
       "1001    285\n",
       "1008    310\n",
       "1012    248\n",
       "1015    282\n",
       "1017    304\n",
       "1020    300\n",
       "1023    314\n",
       "1026    326\n",
       "1031    277\n",
       "dtype: int32"
      ]
     },
     "execution_count": 9,
     "metadata": {},
     "output_type": "execute_result"
    }
   ],
   "source": [
    "l2 =pd.Series(math2+phy2+s)\n",
    "l2            "
   ]
  },
  {
   "cell_type": "markdown",
   "id": "a42c215a",
   "metadata": {},
   "source": [
    "# task 6"
   ]
  },
  {
   "cell_type": "code",
   "execution_count": 10,
   "id": "42c9f2f6",
   "metadata": {},
   "outputs": [
    {
     "data": {
      "text/plain": [
       "1008    310\n",
       "1017    304\n",
       "1023    314\n",
       "1026    326\n",
       "dtype: int32"
      ]
     },
     "execution_count": 10,
     "metadata": {},
     "output_type": "execute_result"
    }
   ],
   "source": [
    "#cut of for the elegible list is 300\n",
    "screening_eligible=l2[l2>300]\n",
    "screening_eligible"
   ]
  },
  {
   "cell_type": "markdown",
   "id": "b59c0439",
   "metadata": {},
   "source": [
    "# task 7"
   ]
  },
  {
   "cell_type": "code",
   "execution_count": 11,
   "id": "d98fba31",
   "metadata": {},
   "outputs": [],
   "source": [
    "#generatethe no for the mathand physic evalvate thestudents only for 40% and 60% \n",
    "math3=pd.Series(np.random.randint(50,101,len(screening_eligible)),index=screening_eligible.index)\n",
    "phy3=pd.Series(np.random.randint(50,101,len(screening_eligible)),index=screening_eligible.index)"
   ]
  },
  {
   "cell_type": "code",
   "execution_count": 13,
   "id": "49d7c145",
   "metadata": {},
   "outputs": [
    {
     "data": {
      "text/plain": [
       "1008    31.0\n",
       "1017    30.4\n",
       "1023    31.4\n",
       "1026    32.6\n",
       "dtype: float64"
      ]
     },
     "execution_count": 13,
     "metadata": {},
     "output_type": "execute_result"
    }
   ],
   "source": [
    "screening_test=math3+phy3\n",
    "total_score=screening_eligible/400*40\n",
    "total_score"
   ]
  },
  {
   "cell_type": "code",
   "execution_count": 16,
   "id": "584c3acd",
   "metadata": {},
   "outputs": [
    {
     "data": {
      "text/plain": [
       "array([72, 91, 18, 98, 40, 76, 71, 90, 29, 43, 34, 89, 63, 37, 77, 24,  6,\n",
       "       82, 26, 51])"
      ]
     },
     "execution_count": 16,
     "metadata": {},
     "output_type": "execute_result"
    }
   ],
   "source": [
    "np.random.randint(4,100,20)"
   ]
  },
  {
   "cell_type": "code",
   "execution_count": 14,
   "id": "bc086082",
   "metadata": {},
   "outputs": [
    {
     "data": {
      "text/plain": [
       "1008    90.7\n",
       "1017    86.8\n",
       "1023    65.9\n",
       "1026    78.2\n",
       "dtype: float64"
      ]
     },
     "execution_count": 14,
     "metadata": {},
     "output_type": "execute_result"
    }
   ],
   "source": [
    "scr_test=screening_test/200*60\n",
    "total_percentage=total_score+scr_test\n",
    "total_percentage"
   ]
  },
  {
   "cell_type": "markdown",
   "id": "fc9fb942",
   "metadata": {},
   "source": [
    "# task 8"
   ]
  },
  {
   "cell_type": "code",
   "execution_count": 8,
   "id": "bd338e8d",
   "metadata": {},
   "outputs": [
    {
     "ename": "NameError",
     "evalue": "name 'total_percentage' is not defined",
     "output_type": "error",
     "traceback": [
      "\u001b[1;31m---------------------------------------------------------------------------\u001b[0m",
      "\u001b[1;31mNameError\u001b[0m                                 Traceback (most recent call last)",
      "Cell \u001b[1;32mIn[8], line 2\u001b[0m\n\u001b[0;32m      1\u001b[0m \u001b[38;5;66;03m#cut of for the elegiblity is 75 score\u001b[39;00m\n\u001b[1;32m----> 2\u001b[0m eligiblity3\u001b[38;5;241m=\u001b[39m\u001b[43mtotal_percentage\u001b[49m[total_percentage\u001b[38;5;241m>\u001b[39m\u001b[38;5;241m=\u001b[39m\u001b[38;5;241m75\u001b[39m]\n\u001b[0;32m      3\u001b[0m eligiblity3\n",
      "\u001b[1;31mNameError\u001b[0m: name 'total_percentage' is not defined"
     ]
    }
   ],
   "source": [
    "#cut of for the elegiblity is 75 score\n",
    "eligiblity3=total_percentage[total_percentage>=75]\n",
    "eligiblity3"
   ]
  },
  {
   "cell_type": "markdown",
   "id": "18573561",
   "metadata": {},
   "source": [
    "# task 9"
   ]
  },
  {
   "cell_type": "code",
   "execution_count": 17,
   "id": "5906ea8c",
   "metadata": {},
   "outputs": [
    {
     "data": {
      "text/html": [
       "<div>\n",
       "<style scoped>\n",
       "    .dataframe tbody tr th:only-of-type {\n",
       "        vertical-align: middle;\n",
       "    }\n",
       "\n",
       "    .dataframe tbody tr th {\n",
       "        vertical-align: top;\n",
       "    }\n",
       "\n",
       "    .dataframe thead th {\n",
       "        text-align: right;\n",
       "    }\n",
       "</style>\n",
       "<table border=\"1\" class=\"dataframe\">\n",
       "  <thead>\n",
       "    <tr style=\"text-align: right;\">\n",
       "      <th></th>\n",
       "      <th>total</th>\n",
       "    </tr>\n",
       "  </thead>\n",
       "  <tbody>\n",
       "    <tr>\n",
       "      <th>1008</th>\n",
       "      <td>90.7</td>\n",
       "    </tr>\n",
       "    <tr>\n",
       "      <th>1017</th>\n",
       "      <td>86.8</td>\n",
       "    </tr>\n",
       "    <tr>\n",
       "      <th>1026</th>\n",
       "      <td>78.2</td>\n",
       "    </tr>\n",
       "  </tbody>\n",
       "</table>\n",
       "</div>"
      ],
      "text/plain": [
       "      total\n",
       "1008   90.7\n",
       "1017   86.8\n",
       "1026   78.2"
      ]
     },
     "execution_count": 17,
     "metadata": {},
     "output_type": "execute_result"
    }
   ],
   "source": [
    "#store the elegible students into a data frame  determine thehigest and the lowest scorrer among all the elegible students\n",
    "df=pd.DataFrame(eligiblity3,columns=['total'])\n",
    "df"
   ]
  },
  {
   "cell_type": "code",
   "execution_count": 18,
   "id": "1a18a64c",
   "metadata": {},
   "outputs": [
    {
     "data": {
      "text/plain": [
       "1008    90.7\n",
       "dtype: float64"
      ]
     },
     "execution_count": 18,
     "metadata": {},
     "output_type": "execute_result"
    }
   ],
   "source": [
    "eligiblity3.sort_values(ascending=False)[0:1]"
   ]
  },
  {
   "cell_type": "code",
   "execution_count": 19,
   "id": "9302e753",
   "metadata": {},
   "outputs": [
    {
     "data": {
      "text/plain": [
       "1026    78.2\n",
       "dtype: float64"
      ]
     },
     "execution_count": 19,
     "metadata": {},
     "output_type": "execute_result"
    }
   ],
   "source": [
    "eligiblity3.sort_values(ascending=True)[0:1]"
   ]
  },
  {
   "cell_type": "code",
   "execution_count": null,
   "id": "5533c5b6",
   "metadata": {},
   "outputs": [],
   "source": []
  },
  {
   "cell_type": "code",
   "execution_count": null,
   "id": "67343b2c",
   "metadata": {},
   "outputs": [],
   "source": []
  },
  {
   "cell_type": "code",
   "execution_count": null,
   "id": "c0a6a8fb",
   "metadata": {},
   "outputs": [],
   "source": []
  }
 ],
 "metadata": {
  "kernelspec": {
   "display_name": "Python 3 (ipykernel)",
   "language": "python",
   "name": "python3"
  },
  "language_info": {
   "codemirror_mode": {
    "name": "ipython",
    "version": 3
   },
   "file_extension": ".py",
   "mimetype": "text/x-python",
   "name": "python",
   "nbconvert_exporter": "python",
   "pygments_lexer": "ipython3",
   "version": "3.10.9"
  }
 },
 "nbformat": 4,
 "nbformat_minor": 5
}
